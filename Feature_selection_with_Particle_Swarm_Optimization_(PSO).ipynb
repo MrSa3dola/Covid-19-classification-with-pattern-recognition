{
 "cells": [
  {
   "cell_type": "markdown",
   "metadata": {
    "colab_type": "text",
    "id": "view-in-github"
   },
   "source": [
    "<a href=\"https://colab.research.google.com/github/Mohamed2bdelaziz/Feature-selection-with-Particle-Swarm-Optimization-PSO-/blob/main/Feature_selection_with_Particle_Swarm_Optimization_(PSO).ipynb\" target=\"_parent\"><img src=\"https://colab.research.google.com/assets/colab-badge.svg\" alt=\"Open In Colab\"/></a>"
   ]
  },
  {
   "cell_type": "markdown",
   "metadata": {
    "id": "iuSpAvW2IrM9"
   },
   "source": [
    "## Swarm Optimization Algorithm: An Overview.\n",
    "\n",
    "\n",
    "> Swarm Optimization Algorithm is a type of computational algorithm inspired by the collective behavior of decentralized, self-organized systems found in nature, such as bird flocks, fish schools, and insect colonies. The most common forms of swarm optimization algorithms include `Particle Swarm Optimization (PSO)` and Ant Colony Optimization (ACO)."
   ]
  },
  {
   "cell_type": "markdown",
   "metadata": {
    "id": "C6HykbhOJC9A"
   },
   "source": [
    "### Particle Swarm Optimization (PSO):\n",
    "\n",
    "> 1. <u>Inspiration:</u> Derived from the social behavior of `birds flocking` or `fish schooling`.\n",
    "2. <u>Mechanism:</u> Uses a population of candidate solutions called `particles`. Each particle moves through the solution space influenced by `its own best-known position` and the `best-known positions of other particles` in the swarm.\n",
    "3. <u>Objective:</u> Find the optimal solution by **iteratively improving candidate solutions** with regard to a given measure of quality or fitness."
   ]
  },
  {
   "cell_type": "markdown",
   "metadata": {
    "id": "Eh9VfXpsJ481"
   },
   "source": [
    "### How It Works: Particle Swarm Optimization (PSO)\n",
    "\n",
    "> 1. <u>Initialization:</u> Initialize a population of particles with **random positions** and **velocities** in the solution space.\n",
    "2. <u>Evaluation:</u> Evaluate the fitness of each particle according to the objective function.\n",
    "3. <u>Update Velocities and Positions:</u>\n",
    "Each particle updates its velocity based on three factors:\n",
    "  * *Inertia:* The particle's previous velocity.\n",
    "  * *Personal Best:* The distance to the particle's best-known position.\n",
    "  * *Global Best:* The distance to the swarm's best-known position.<br>\n",
    "Update the particle’s position by **adding its new velocity to its current position**.\n",
    "4. <u>Iteration:</u> Repeat the evaluation and update steps until a termination criterion is met (e.g., a maximum number of iterations or a satisfactory fitness level)."
   ]
  },
  {
   "cell_type": "markdown",
   "metadata": {
    "id": "gtpUVCTLLWGU"
   },
   "source": [
    "### Particle Swarm Optimization (PSO) for feature selection:\n",
    "\n",
    "Particle Swarm Optimization (PSO) can be adapted for feature selection in a tabular dataset. Feature selection aims to choose a subset of relevant features for model building, which can improve the performance and interpretability of a machine learning model."
   ]
  },
  {
   "cell_type": "markdown",
   "metadata": {
    "id": "LLVGouTMLtxV"
   },
   "source": [
    "## Imports."
   ]
  },
  {
   "cell_type": "code",
   "execution_count": 16,
   "metadata": {
    "id": "3JCzUWdbLs7Z"
   },
   "outputs": [],
   "source": [
    "import numpy as np\n",
    "import pandas as pd\n",
    "from sklearn.datasets import load_breast_cancer\n",
    "from sklearn.model_selection import train_test_split, cross_val_score\n",
    "from sklearn.preprocessing import StandardScaler\n",
    "from sklearn.metrics import accuracy_score\n",
    "from sklearn.ensemble import RandomForestClassifier\n",
    "from sklearn.linear_model import LogisticRegression\n",
    "from tqdm import tqdm"
   ]
  },
  {
   "cell_type": "markdown",
   "metadata": {
    "id": "hmBh7XgFMGfU"
   },
   "source": [
    "## Loading COVID-19 dataset from kaggle."
   ]
  },
  {
   "cell_type": "code",
   "execution_count": 2,
   "metadata": {
    "colab": {
     "base_uri": "https://localhost:8080/"
    },
    "id": "--xKfEUYIqgi",
    "outputId": "fe144e60-5ec6-4fb0-b7da-42b0227f12bd"
   },
   "outputs": [
    {
     "name": "stdout",
     "output_type": "stream",
     "text": [
      "Dataset URL: https://www.kaggle.com/datasets/meirnizri/covid19-dataset\n",
      "License(s): CC0-1.0\n",
      "Downloading covid19-dataset.zip to /content\n",
      "  0% 0.00/4.66M [00:00<?, ?B/s]\n",
      "100% 4.66M/4.66M [00:00<00:00, 100MB/s]\n"
     ]
    }
   ],
   "source": [
    "# load the data in a ziped file using kaggle api command\n",
    "! kaggle datasets download -d meirnizri/covid19-dataset"
   ]
  },
  {
   "cell_type": "code",
   "execution_count": 3,
   "metadata": {
    "colab": {
     "base_uri": "https://localhost:8080/"
    },
    "id": "3Yx1mhqGIduN",
    "outputId": "8c521910-5909-40fa-8790-693eea62facc"
   },
   "outputs": [
    {
     "name": "stdout",
     "output_type": "stream",
     "text": [
      "Archive:  /content/covid19-dataset.zip\n",
      "  inflating: Covid Data.csv          \n"
     ]
    }
   ],
   "source": [
    "# unziping loaded zip file\n",
    "! unzip /content/covid19-dataset.zip"
   ]
  },
  {
   "cell_type": "code",
   "execution_count": 4,
   "metadata": {
    "colab": {
     "base_uri": "https://localhost:8080/",
     "height": 350
    },
    "id": "luaLqDZfNKmt",
    "outputId": "1745ae4f-c375-4e41-aca4-52c55a43a9db"
   },
   "outputs": [
    {
     "data": {
      "application/vnd.google.colaboratory.intrinsic+json": {
       "type": "dataframe"
      },
      "text/html": [
       "\n",
       "  <div id=\"df-3d34fb49-a7ff-49f4-8fb9-5f291e1b4100\" class=\"colab-df-container\">\n",
       "    <div>\n",
       "<style scoped>\n",
       "    .dataframe tbody tr th:only-of-type {\n",
       "        vertical-align: middle;\n",
       "    }\n",
       "\n",
       "    .dataframe tbody tr th {\n",
       "        vertical-align: top;\n",
       "    }\n",
       "\n",
       "    .dataframe thead th {\n",
       "        text-align: right;\n",
       "    }\n",
       "</style>\n",
       "<table border=\"1\" class=\"dataframe\">\n",
       "  <thead>\n",
       "    <tr style=\"text-align: right;\">\n",
       "      <th></th>\n",
       "      <th>USMER</th>\n",
       "      <th>MEDICAL_UNIT</th>\n",
       "      <th>SEX</th>\n",
       "      <th>PATIENT_TYPE</th>\n",
       "      <th>DATE_DIED</th>\n",
       "      <th>INTUBED</th>\n",
       "      <th>PNEUMONIA</th>\n",
       "      <th>AGE</th>\n",
       "      <th>PREGNANT</th>\n",
       "      <th>DIABETES</th>\n",
       "      <th>...</th>\n",
       "      <th>ASTHMA</th>\n",
       "      <th>INMSUPR</th>\n",
       "      <th>HIPERTENSION</th>\n",
       "      <th>OTHER_DISEASE</th>\n",
       "      <th>CARDIOVASCULAR</th>\n",
       "      <th>OBESITY</th>\n",
       "      <th>RENAL_CHRONIC</th>\n",
       "      <th>TOBACCO</th>\n",
       "      <th>CLASIFFICATION_FINAL</th>\n",
       "      <th>ICU</th>\n",
       "    </tr>\n",
       "  </thead>\n",
       "  <tbody>\n",
       "    <tr>\n",
       "      <th>231857</th>\n",
       "      <td>2</td>\n",
       "      <td>4</td>\n",
       "      <td>2</td>\n",
       "      <td>1</td>\n",
       "      <td>9999-99-99</td>\n",
       "      <td>97</td>\n",
       "      <td>2</td>\n",
       "      <td>28</td>\n",
       "      <td>97</td>\n",
       "      <td>2</td>\n",
       "      <td>...</td>\n",
       "      <td>2</td>\n",
       "      <td>2</td>\n",
       "      <td>2</td>\n",
       "      <td>2</td>\n",
       "      <td>2</td>\n",
       "      <td>2</td>\n",
       "      <td>2</td>\n",
       "      <td>2</td>\n",
       "      <td>7</td>\n",
       "      <td>97</td>\n",
       "    </tr>\n",
       "    <tr>\n",
       "      <th>145293</th>\n",
       "      <td>2</td>\n",
       "      <td>4</td>\n",
       "      <td>1</td>\n",
       "      <td>1</td>\n",
       "      <td>9999-99-99</td>\n",
       "      <td>97</td>\n",
       "      <td>2</td>\n",
       "      <td>46</td>\n",
       "      <td>2</td>\n",
       "      <td>2</td>\n",
       "      <td>...</td>\n",
       "      <td>2</td>\n",
       "      <td>2</td>\n",
       "      <td>2</td>\n",
       "      <td>2</td>\n",
       "      <td>2</td>\n",
       "      <td>2</td>\n",
       "      <td>2</td>\n",
       "      <td>2</td>\n",
       "      <td>3</td>\n",
       "      <td>97</td>\n",
       "    </tr>\n",
       "    <tr>\n",
       "      <th>896465</th>\n",
       "      <td>1</td>\n",
       "      <td>12</td>\n",
       "      <td>1</td>\n",
       "      <td>1</td>\n",
       "      <td>9999-99-99</td>\n",
       "      <td>97</td>\n",
       "      <td>2</td>\n",
       "      <td>30</td>\n",
       "      <td>2</td>\n",
       "      <td>2</td>\n",
       "      <td>...</td>\n",
       "      <td>2</td>\n",
       "      <td>2</td>\n",
       "      <td>2</td>\n",
       "      <td>2</td>\n",
       "      <td>2</td>\n",
       "      <td>2</td>\n",
       "      <td>2</td>\n",
       "      <td>2</td>\n",
       "      <td>7</td>\n",
       "      <td>97</td>\n",
       "    </tr>\n",
       "    <tr>\n",
       "      <th>750805</th>\n",
       "      <td>2</td>\n",
       "      <td>12</td>\n",
       "      <td>1</td>\n",
       "      <td>1</td>\n",
       "      <td>9999-99-99</td>\n",
       "      <td>97</td>\n",
       "      <td>2</td>\n",
       "      <td>25</td>\n",
       "      <td>2</td>\n",
       "      <td>1</td>\n",
       "      <td>...</td>\n",
       "      <td>2</td>\n",
       "      <td>2</td>\n",
       "      <td>2</td>\n",
       "      <td>2</td>\n",
       "      <td>2</td>\n",
       "      <td>2</td>\n",
       "      <td>2</td>\n",
       "      <td>2</td>\n",
       "      <td>7</td>\n",
       "      <td>97</td>\n",
       "    </tr>\n",
       "    <tr>\n",
       "      <th>159170</th>\n",
       "      <td>2</td>\n",
       "      <td>4</td>\n",
       "      <td>1</td>\n",
       "      <td>1</td>\n",
       "      <td>9999-99-99</td>\n",
       "      <td>97</td>\n",
       "      <td>2</td>\n",
       "      <td>47</td>\n",
       "      <td>2</td>\n",
       "      <td>2</td>\n",
       "      <td>...</td>\n",
       "      <td>2</td>\n",
       "      <td>2</td>\n",
       "      <td>1</td>\n",
       "      <td>2</td>\n",
       "      <td>2</td>\n",
       "      <td>2</td>\n",
       "      <td>2</td>\n",
       "      <td>2</td>\n",
       "      <td>5</td>\n",
       "      <td>97</td>\n",
       "    </tr>\n",
       "    <tr>\n",
       "      <th>613383</th>\n",
       "      <td>1</td>\n",
       "      <td>12</td>\n",
       "      <td>1</td>\n",
       "      <td>1</td>\n",
       "      <td>9999-99-99</td>\n",
       "      <td>97</td>\n",
       "      <td>2</td>\n",
       "      <td>17</td>\n",
       "      <td>2</td>\n",
       "      <td>2</td>\n",
       "      <td>...</td>\n",
       "      <td>2</td>\n",
       "      <td>2</td>\n",
       "      <td>2</td>\n",
       "      <td>2</td>\n",
       "      <td>2</td>\n",
       "      <td>2</td>\n",
       "      <td>2</td>\n",
       "      <td>2</td>\n",
       "      <td>3</td>\n",
       "      <td>97</td>\n",
       "    </tr>\n",
       "    <tr>\n",
       "      <th>342069</th>\n",
       "      <td>1</td>\n",
       "      <td>6</td>\n",
       "      <td>2</td>\n",
       "      <td>2</td>\n",
       "      <td>07/05/2020</td>\n",
       "      <td>2</td>\n",
       "      <td>1</td>\n",
       "      <td>47</td>\n",
       "      <td>97</td>\n",
       "      <td>2</td>\n",
       "      <td>...</td>\n",
       "      <td>2</td>\n",
       "      <td>2</td>\n",
       "      <td>1</td>\n",
       "      <td>2</td>\n",
       "      <td>2</td>\n",
       "      <td>2</td>\n",
       "      <td>2</td>\n",
       "      <td>2</td>\n",
       "      <td>6</td>\n",
       "      <td>2</td>\n",
       "    </tr>\n",
       "    <tr>\n",
       "      <th>1038241</th>\n",
       "      <td>2</td>\n",
       "      <td>12</td>\n",
       "      <td>2</td>\n",
       "      <td>1</td>\n",
       "      <td>9999-99-99</td>\n",
       "      <td>97</td>\n",
       "      <td>2</td>\n",
       "      <td>26</td>\n",
       "      <td>97</td>\n",
       "      <td>2</td>\n",
       "      <td>...</td>\n",
       "      <td>2</td>\n",
       "      <td>2</td>\n",
       "      <td>2</td>\n",
       "      <td>2</td>\n",
       "      <td>2</td>\n",
       "      <td>2</td>\n",
       "      <td>2</td>\n",
       "      <td>2</td>\n",
       "      <td>7</td>\n",
       "      <td>97</td>\n",
       "    </tr>\n",
       "  </tbody>\n",
       "</table>\n",
       "<p>8 rows × 21 columns</p>\n",
       "</div>\n",
       "    <div class=\"colab-df-buttons\">\n",
       "\n",
       "  <div class=\"colab-df-container\">\n",
       "    <button class=\"colab-df-convert\" onclick=\"convertToInteractive('df-3d34fb49-a7ff-49f4-8fb9-5f291e1b4100')\"\n",
       "            title=\"Convert this dataframe to an interactive table.\"\n",
       "            style=\"display:none;\">\n",
       "\n",
       "  <svg xmlns=\"http://www.w3.org/2000/svg\" height=\"24px\" viewBox=\"0 -960 960 960\">\n",
       "    <path d=\"M120-120v-720h720v720H120Zm60-500h600v-160H180v160Zm220 220h160v-160H400v160Zm0 220h160v-160H400v160ZM180-400h160v-160H180v160Zm440 0h160v-160H620v160ZM180-180h160v-160H180v160Zm440 0h160v-160H620v160Z\"/>\n",
       "  </svg>\n",
       "    </button>\n",
       "\n",
       "  <style>\n",
       "    .colab-df-container {\n",
       "      display:flex;\n",
       "      gap: 12px;\n",
       "    }\n",
       "\n",
       "    .colab-df-convert {\n",
       "      background-color: #E8F0FE;\n",
       "      border: none;\n",
       "      border-radius: 50%;\n",
       "      cursor: pointer;\n",
       "      display: none;\n",
       "      fill: #1967D2;\n",
       "      height: 32px;\n",
       "      padding: 0 0 0 0;\n",
       "      width: 32px;\n",
       "    }\n",
       "\n",
       "    .colab-df-convert:hover {\n",
       "      background-color: #E2EBFA;\n",
       "      box-shadow: 0px 1px 2px rgba(60, 64, 67, 0.3), 0px 1px 3px 1px rgba(60, 64, 67, 0.15);\n",
       "      fill: #174EA6;\n",
       "    }\n",
       "\n",
       "    .colab-df-buttons div {\n",
       "      margin-bottom: 4px;\n",
       "    }\n",
       "\n",
       "    [theme=dark] .colab-df-convert {\n",
       "      background-color: #3B4455;\n",
       "      fill: #D2E3FC;\n",
       "    }\n",
       "\n",
       "    [theme=dark] .colab-df-convert:hover {\n",
       "      background-color: #434B5C;\n",
       "      box-shadow: 0px 1px 3px 1px rgba(0, 0, 0, 0.15);\n",
       "      filter: drop-shadow(0px 1px 2px rgba(0, 0, 0, 0.3));\n",
       "      fill: #FFFFFF;\n",
       "    }\n",
       "  </style>\n",
       "\n",
       "    <script>\n",
       "      const buttonEl =\n",
       "        document.querySelector('#df-3d34fb49-a7ff-49f4-8fb9-5f291e1b4100 button.colab-df-convert');\n",
       "      buttonEl.style.display =\n",
       "        google.colab.kernel.accessAllowed ? 'block' : 'none';\n",
       "\n",
       "      async function convertToInteractive(key) {\n",
       "        const element = document.querySelector('#df-3d34fb49-a7ff-49f4-8fb9-5f291e1b4100');\n",
       "        const dataTable =\n",
       "          await google.colab.kernel.invokeFunction('convertToInteractive',\n",
       "                                                    [key], {});\n",
       "        if (!dataTable) return;\n",
       "\n",
       "        const docLinkHtml = 'Like what you see? Visit the ' +\n",
       "          '<a target=\"_blank\" href=https://colab.research.google.com/notebooks/data_table.ipynb>data table notebook</a>'\n",
       "          + ' to learn more about interactive tables.';\n",
       "        element.innerHTML = '';\n",
       "        dataTable['output_type'] = 'display_data';\n",
       "        await google.colab.output.renderOutput(dataTable, element);\n",
       "        const docLink = document.createElement('div');\n",
       "        docLink.innerHTML = docLinkHtml;\n",
       "        element.appendChild(docLink);\n",
       "      }\n",
       "    </script>\n",
       "  </div>\n",
       "\n",
       "\n",
       "<div id=\"df-27e5ffb3-dea2-4915-90f1-d1c2d1fdcdb9\">\n",
       "  <button class=\"colab-df-quickchart\" onclick=\"quickchart('df-27e5ffb3-dea2-4915-90f1-d1c2d1fdcdb9')\"\n",
       "            title=\"Suggest charts\"\n",
       "            style=\"display:none;\">\n",
       "\n",
       "<svg xmlns=\"http://www.w3.org/2000/svg\" height=\"24px\"viewBox=\"0 0 24 24\"\n",
       "     width=\"24px\">\n",
       "    <g>\n",
       "        <path d=\"M19 3H5c-1.1 0-2 .9-2 2v14c0 1.1.9 2 2 2h14c1.1 0 2-.9 2-2V5c0-1.1-.9-2-2-2zM9 17H7v-7h2v7zm4 0h-2V7h2v10zm4 0h-2v-4h2v4z\"/>\n",
       "    </g>\n",
       "</svg>\n",
       "  </button>\n",
       "\n",
       "<style>\n",
       "  .colab-df-quickchart {\n",
       "      --bg-color: #E8F0FE;\n",
       "      --fill-color: #1967D2;\n",
       "      --hover-bg-color: #E2EBFA;\n",
       "      --hover-fill-color: #174EA6;\n",
       "      --disabled-fill-color: #AAA;\n",
       "      --disabled-bg-color: #DDD;\n",
       "  }\n",
       "\n",
       "  [theme=dark] .colab-df-quickchart {\n",
       "      --bg-color: #3B4455;\n",
       "      --fill-color: #D2E3FC;\n",
       "      --hover-bg-color: #434B5C;\n",
       "      --hover-fill-color: #FFFFFF;\n",
       "      --disabled-bg-color: #3B4455;\n",
       "      --disabled-fill-color: #666;\n",
       "  }\n",
       "\n",
       "  .colab-df-quickchart {\n",
       "    background-color: var(--bg-color);\n",
       "    border: none;\n",
       "    border-radius: 50%;\n",
       "    cursor: pointer;\n",
       "    display: none;\n",
       "    fill: var(--fill-color);\n",
       "    height: 32px;\n",
       "    padding: 0;\n",
       "    width: 32px;\n",
       "  }\n",
       "\n",
       "  .colab-df-quickchart:hover {\n",
       "    background-color: var(--hover-bg-color);\n",
       "    box-shadow: 0 1px 2px rgba(60, 64, 67, 0.3), 0 1px 3px 1px rgba(60, 64, 67, 0.15);\n",
       "    fill: var(--button-hover-fill-color);\n",
       "  }\n",
       "\n",
       "  .colab-df-quickchart-complete:disabled,\n",
       "  .colab-df-quickchart-complete:disabled:hover {\n",
       "    background-color: var(--disabled-bg-color);\n",
       "    fill: var(--disabled-fill-color);\n",
       "    box-shadow: none;\n",
       "  }\n",
       "\n",
       "  .colab-df-spinner {\n",
       "    border: 2px solid var(--fill-color);\n",
       "    border-color: transparent;\n",
       "    border-bottom-color: var(--fill-color);\n",
       "    animation:\n",
       "      spin 1s steps(1) infinite;\n",
       "  }\n",
       "\n",
       "  @keyframes spin {\n",
       "    0% {\n",
       "      border-color: transparent;\n",
       "      border-bottom-color: var(--fill-color);\n",
       "      border-left-color: var(--fill-color);\n",
       "    }\n",
       "    20% {\n",
       "      border-color: transparent;\n",
       "      border-left-color: var(--fill-color);\n",
       "      border-top-color: var(--fill-color);\n",
       "    }\n",
       "    30% {\n",
       "      border-color: transparent;\n",
       "      border-left-color: var(--fill-color);\n",
       "      border-top-color: var(--fill-color);\n",
       "      border-right-color: var(--fill-color);\n",
       "    }\n",
       "    40% {\n",
       "      border-color: transparent;\n",
       "      border-right-color: var(--fill-color);\n",
       "      border-top-color: var(--fill-color);\n",
       "    }\n",
       "    60% {\n",
       "      border-color: transparent;\n",
       "      border-right-color: var(--fill-color);\n",
       "    }\n",
       "    80% {\n",
       "      border-color: transparent;\n",
       "      border-right-color: var(--fill-color);\n",
       "      border-bottom-color: var(--fill-color);\n",
       "    }\n",
       "    90% {\n",
       "      border-color: transparent;\n",
       "      border-bottom-color: var(--fill-color);\n",
       "    }\n",
       "  }\n",
       "</style>\n",
       "\n",
       "  <script>\n",
       "    async function quickchart(key) {\n",
       "      const quickchartButtonEl =\n",
       "        document.querySelector('#' + key + ' button');\n",
       "      quickchartButtonEl.disabled = true;  // To prevent multiple clicks.\n",
       "      quickchartButtonEl.classList.add('colab-df-spinner');\n",
       "      try {\n",
       "        const charts = await google.colab.kernel.invokeFunction(\n",
       "            'suggestCharts', [key], {});\n",
       "      } catch (error) {\n",
       "        console.error('Error during call to suggestCharts:', error);\n",
       "      }\n",
       "      quickchartButtonEl.classList.remove('colab-df-spinner');\n",
       "      quickchartButtonEl.classList.add('colab-df-quickchart-complete');\n",
       "    }\n",
       "    (() => {\n",
       "      let quickchartButtonEl =\n",
       "        document.querySelector('#df-27e5ffb3-dea2-4915-90f1-d1c2d1fdcdb9 button');\n",
       "      quickchartButtonEl.style.display =\n",
       "        google.colab.kernel.accessAllowed ? 'block' : 'none';\n",
       "    })();\n",
       "  </script>\n",
       "</div>\n",
       "\n",
       "    </div>\n",
       "  </div>\n"
      ],
      "text/plain": [
       "         USMER  MEDICAL_UNIT  SEX  PATIENT_TYPE   DATE_DIED  INTUBED  \\\n",
       "231857       2             4    2             1  9999-99-99       97   \n",
       "145293       2             4    1             1  9999-99-99       97   \n",
       "896465       1            12    1             1  9999-99-99       97   \n",
       "750805       2            12    1             1  9999-99-99       97   \n",
       "159170       2             4    1             1  9999-99-99       97   \n",
       "613383       1            12    1             1  9999-99-99       97   \n",
       "342069       1             6    2             2  07/05/2020        2   \n",
       "1038241      2            12    2             1  9999-99-99       97   \n",
       "\n",
       "         PNEUMONIA  AGE  PREGNANT  DIABETES  ...  ASTHMA  INMSUPR  \\\n",
       "231857           2   28        97         2  ...       2        2   \n",
       "145293           2   46         2         2  ...       2        2   \n",
       "896465           2   30         2         2  ...       2        2   \n",
       "750805           2   25         2         1  ...       2        2   \n",
       "159170           2   47         2         2  ...       2        2   \n",
       "613383           2   17         2         2  ...       2        2   \n",
       "342069           1   47        97         2  ...       2        2   \n",
       "1038241          2   26        97         2  ...       2        2   \n",
       "\n",
       "         HIPERTENSION  OTHER_DISEASE  CARDIOVASCULAR  OBESITY  RENAL_CHRONIC  \\\n",
       "231857              2              2               2        2              2   \n",
       "145293              2              2               2        2              2   \n",
       "896465              2              2               2        2              2   \n",
       "750805              2              2               2        2              2   \n",
       "159170              1              2               2        2              2   \n",
       "613383              2              2               2        2              2   \n",
       "342069              1              2               2        2              2   \n",
       "1038241             2              2               2        2              2   \n",
       "\n",
       "         TOBACCO  CLASIFFICATION_FINAL  ICU  \n",
       "231857         2                     7   97  \n",
       "145293         2                     3   97  \n",
       "896465         2                     7   97  \n",
       "750805         2                     7   97  \n",
       "159170         2                     5   97  \n",
       "613383         2                     3   97  \n",
       "342069         2                     6    2  \n",
       "1038241        2                     7   97  \n",
       "\n",
       "[8 rows x 21 columns]"
      ]
     },
     "execution_count": 4,
     "metadata": {},
     "output_type": "execute_result"
    }
   ],
   "source": [
    "# read data from the csv file using pandas\n",
    "data_path = '/content/Covid Data.csv' # here's the data path\n",
    "covid_df = pd.read_csv(data_path) # load the data into a DataFrame\n",
    "\n",
    "# showing random 8 samples from the data\n",
    "covid_df.sample(8)"
   ]
  },
  {
   "cell_type": "markdown",
   "metadata": {
    "id": "ctqqPzoSOrhW"
   },
   "source": [
    "## Processing"
   ]
  },
  {
   "cell_type": "code",
   "execution_count": 5,
   "metadata": {
    "colab": {
     "base_uri": "https://localhost:8080/"
    },
    "id": "D2MgxzyCQr4y",
    "outputId": "94ddce00-70fb-4ec3-cc4f-a8f9487d54ca"
   },
   "outputs": [
    {
     "data": {
      "text/plain": [
       "CLASIFFICATION_FINAL\n",
       "7    499250\n",
       "3    381527\n",
       "6    128133\n",
       "5     26091\n",
       "1      8601\n",
       "4      3122\n",
       "2      1851\n",
       "Name: count, dtype: int64"
      ]
     },
     "execution_count": 5,
     "metadata": {},
     "output_type": "execute_result"
    }
   ],
   "source": [
    "covid_df.CLASIFFICATION_FINAL.value_counts()"
   ]
  },
  {
   "cell_type": "code",
   "execution_count": 6,
   "metadata": {
    "id": "v-HAKBz1N6-l"
   },
   "outputs": [],
   "source": [
    "\"\"\"\n",
    "As the range of \"CLASIFFICATION_FINAL\" column varies away,\n",
    "while the pationt is in covid-19 when his classification value below 4,\n",
    "here is the \"binarize_diagnosis\" function that maps the column into binary values\n",
    "where 1 for covid cariers and 0 for not cariers\n",
    "\"\"\"\n",
    "def binarize_diagnosis(\n",
    "    classification_value : int\n",
    "    ) -> int:\n",
    "    return int(classification_value < 4)"
   ]
  },
  {
   "cell_type": "code",
   "execution_count": 7,
   "metadata": {
    "colab": {
     "base_uri": "https://localhost:8080/"
    },
    "id": "c5DxSHcJQQr9",
    "outputId": "c8db9a8a-926c-4630-897a-5d19a210f0f8"
   },
   "outputs": [
    {
     "data": {
      "text/plain": [
       "CLASIFFICATION_FINAL\n",
       "0    656596\n",
       "1    391979\n",
       "Name: count, dtype: int64"
      ]
     },
     "execution_count": 7,
     "metadata": {},
     "output_type": "execute_result"
    }
   ],
   "source": [
    "# apply the \"binarize_diagnosis\" function over the \"CLASIFFICATION_FINAL\" column\n",
    "covid_df.CLASIFFICATION_FINAL = covid_df.CLASIFFICATION_FINAL.apply(binarize_diagnosis)\n",
    "\n",
    "covid_df.CLASIFFICATION_FINAL.value_counts()"
   ]
  },
  {
   "cell_type": "code",
   "execution_count": 17,
   "metadata": {
    "colab": {
     "base_uri": "https://localhost:8080/"
    },
    "id": "Z0rL8jAKRlqj",
    "outputId": "d185ce5d-ffb4-4ecb-e9b6-debcbe986c60"
   },
   "outputs": [
    {
     "name": "stdout",
     "output_type": "stream",
     "text": [
      "Data shape: (1048575, 19), While target's shape: (1048575,)\n"
     ]
    }
   ],
   "source": [
    "X = covid_df.drop(columns = ['CLASIFFICATION_FINAL', 'DATE_DIED']).values\n",
    "X = StandardScaler().fit_transform(X)\n",
    "\n",
    "y = covid_df.CLASIFFICATION_FINAL.values#.reshape(-1, 1)\n",
    "\n",
    "print(f\"Data shape: {X.shape}, While target's shape: {y.shape}\")"
   ]
  },
  {
   "cell_type": "markdown",
   "metadata": {
    "id": "jyr63cWdQ7IV"
   },
   "source": [
    "## Feature selection (PSO)."
   ]
  },
  {
   "cell_type": "markdown",
   "metadata": {
    "id": "tyebHYOaRNMM"
   },
   "source": [
    "1. Define the Problem and Objective Function\n",
    ">The objective function could be the performance metric of a machine learning model (e.g., accuracy, F1-score) using a subset of features."
   ]
  },
  {
   "cell_type": "code",
   "execution_count": 18,
   "metadata": {
    "id": "xhOggtn_QzQD"
   },
   "outputs": [],
   "source": [
    "# Objective function\n",
    "def objective_function(\n",
    "    selected_features : list[bool],\n",
    "    X = X, y = y\n",
    "    ) -> float:\n",
    "    if np.sum(selected_features) == 0:\n",
    "        return 0  # Avoid empty feature subset\n",
    "    X_selected = X[:, selected_features == 1]\n",
    "    clf = LogisticRegression(random_state=42)\n",
    "    clf.fit(X_selected, y)\n",
    "    y_pred = clf.predict(X_selected)\n",
    "    return accuracy_score(y, y_pred)"
   ]
  },
  {
   "cell_type": "markdown",
   "metadata": {
    "id": "VTM_MN2ZSnjf"
   },
   "source": [
    "2. Encode Particles\n",
    "> Each particle represents a subset of features. This can be encoded as a binary vector where 1 means the feature is selected and 0 means it is not.\n",
    "\n",
    "3. Initialize Particles\n",
    "> Initialize particle positions (binary vectors) and velocities (continuous values).\n",
    "\n",
    "4. Evaluate Fitness\n",
    "> Evaluate the fitness of each particle by training and validating a machine learning model using the selected features."
   ]
  },
  {
   "cell_type": "code",
   "execution_count": 25,
   "metadata": {
    "colab": {
     "base_uri": "https://localhost:8080/"
    },
    "id": "yqm40ELjSoAX",
    "outputId": "94440c90-caa6-4769-c7af-f2793fbcfdc4"
   },
   "outputs": [
    {
     "name": "stderr",
     "output_type": "stream",
     "text": [
      "\n",
      "  0%|          | 0/6 [00:00<?, ?it/s]\u001b[A\n",
      " 17%|█▋        | 1/6 [00:03<00:15,  3.15s/it]\u001b[A\n",
      " 33%|███▎      | 2/6 [00:08<00:17,  4.41s/it]\u001b[A\n",
      " 50%|█████     | 3/6 [00:10<00:09,  3.21s/it]\u001b[A\n",
      " 67%|██████▋   | 4/6 [00:15<00:07,  3.94s/it]\u001b[A\n",
      " 83%|████████▎ | 5/6 [00:18<00:03,  3.53s/it]\u001b[A\n",
      "100%|██████████| 6/6 [00:19<00:00,  3.21s/it]\n"
     ]
    }
   ],
   "source": [
    "# Parameters\n",
    "num_particles = 6\n",
    "dimensions = X.shape[1]\n",
    "max_iter = 10\n",
    "c1 = 2.0\n",
    "c2 = 2.0\n",
    "w = 0.7\n",
    "w_decay = 0.99\n",
    "\n",
    "# Initialize particle positions and velocities\n",
    "particles_position = np.random.randint(2, size=(num_particles, dimensions))\n",
    "particles_velocity = np.random.uniform(low=-1, high=1, size=(num_particles, dimensions))\n",
    "pBest_position = np.copy(particles_position)\n",
    "pBest_value = np.array([objective_function(p) for p in tqdm(particles_position)])\n",
    "gBest_position = pBest_position[np.argmax(pBest_value)]\n",
    "gBest_value = np.max(pBest_value)\n"
   ]
  },
  {
   "cell_type": "code",
   "execution_count": 26,
   "metadata": {
    "colab": {
     "base_uri": "https://localhost:8080/"
    },
    "id": "bWsjFcW7agfV",
    "outputId": "c2f76db4-44b6-4325-9c19-0ddce1d78aa3"
   },
   "outputs": [
    {
     "name": "stdout",
     "output_type": "stream",
     "text": [
      "Best selected features vector: [0 1 1 1 1 1 1 0 0 0 0 1 1 0 0 0 1 0 1]\n",
      "Accuracy of best selected features vector: 0.662\n"
     ]
    }
   ],
   "source": [
    "print(f\"Best selected features vector: {particles_position[np.argmax(pBest_value)]}\")\n",
    "print(f\"Accuracy of best selected features vector: {gBest_value :0.3f}\")"
   ]
  },
  {
   "cell_type": "markdown",
   "metadata": {
    "id": "beoRShXWcBsf"
   },
   "source": [
    "5. Update Velocities and Positions\n",
    "> Update velocities and positions using PSO equations. Use a sigmoid function to convert continuous velocities into binary positions.\n",
    "\n",
    "6. Update Personal and Global Bests\n",
    "> Update the personal best positions and the global best position based on the fitness evaluations.\n",
    "\n",
    "7. Iterate\n",
    "> Repeat the update steps until the stopping criterion is met.\n",
    "\n",
    "8. Return the Best Feature Subset\n",
    "> Return the best feature subset found during the iterations."
   ]
  },
  {
   "cell_type": "code",
   "execution_count": 28,
   "metadata": {
    "colab": {
     "base_uri": "https://localhost:8080/"
    },
    "id": "Umu9VhJBTbk0",
    "outputId": "04af611c-1fe9-4e7a-cad0-78c5e9ebc6cd"
   },
   "outputs": [
    {
     "name": "stderr",
     "output_type": "stream",
     "text": [
      "\n",
      "  0%|          | 0/6 [00:00<?, ?it/s]\u001b[A\n",
      " 17%|█▋        | 1/6 [00:04<00:22,  4.59s/it]\u001b[A\n",
      " 33%|███▎      | 2/6 [00:07<00:15,  3.85s/it]\u001b[A\n",
      " 50%|█████     | 3/6 [00:10<00:09,  3.14s/it]\u001b[A\n",
      " 67%|██████▋   | 4/6 [00:14<00:06,  3.47s/it]\u001b[A\n",
      " 83%|████████▎ | 5/6 [00:16<00:03,  3.20s/it]\u001b[A\n",
      "100%|██████████| 6/6 [00:26<00:00,  4.43s/it]\n"
     ]
    },
    {
     "name": "stdout",
     "output_type": "stream",
     "text": [
      "Iteration 1/10, Global Best Value: 0.662\n"
     ]
    },
    {
     "name": "stderr",
     "output_type": "stream",
     "text": [
      "\n",
      "  0%|          | 0/6 [00:00<?, ?it/s]\u001b[A\n",
      " 17%|█▋        | 1/6 [00:12<01:04, 12.91s/it]\u001b[A\n",
      " 33%|███▎      | 2/6 [00:18<00:34,  8.71s/it]\u001b[A\n",
      " 50%|█████     | 3/6 [00:26<00:25,  8.52s/it]\u001b[A\n",
      " 67%|██████▋   | 4/6 [00:30<00:13,  6.66s/it]\u001b[A\n",
      " 83%|████████▎ | 5/6 [00:32<00:04,  4.79s/it]\u001b[A\n",
      "100%|██████████| 6/6 [00:34<00:00,  5.68s/it]\n"
     ]
    },
    {
     "name": "stdout",
     "output_type": "stream",
     "text": [
      "Iteration 2/10, Global Best Value: 0.662\n"
     ]
    },
    {
     "name": "stderr",
     "output_type": "stream",
     "text": [
      "\n",
      "  0%|          | 0/6 [00:00<?, ?it/s]\u001b[A\n",
      " 17%|█▋        | 1/6 [00:05<00:28,  5.77s/it]\u001b[A\n",
      " 33%|███▎      | 2/6 [00:12<00:25,  6.38s/it]\u001b[A\n",
      " 50%|█████     | 3/6 [00:19<00:20,  6.67s/it]\u001b[A\n",
      " 67%|██████▋   | 4/6 [00:21<00:09,  4.97s/it]\u001b[A\n",
      " 83%|████████▎ | 5/6 [00:26<00:04,  4.87s/it]\u001b[A\n",
      "100%|██████████| 6/6 [00:31<00:00,  5.29s/it]\n"
     ]
    },
    {
     "name": "stdout",
     "output_type": "stream",
     "text": [
      "Iteration 3/10, Global Best Value: 0.662\n"
     ]
    },
    {
     "name": "stderr",
     "output_type": "stream",
     "text": [
      "\n",
      "  0%|          | 0/6 [00:00<?, ?it/s]\u001b[A\n",
      " 17%|█▋        | 1/6 [00:05<00:26,  5.34s/it]\u001b[A\n",
      " 33%|███▎      | 2/6 [00:06<00:12,  3.09s/it]\u001b[A\n",
      " 50%|█████     | 3/6 [00:11<00:11,  3.72s/it]\u001b[A\n",
      " 67%|██████▋   | 4/6 [00:18<00:10,  5.04s/it]\u001b[A\n",
      " 83%|████████▎ | 5/6 [00:22<00:04,  4.60s/it]\u001b[A\n",
      "100%|██████████| 6/6 [00:31<00:00,  5.25s/it]\n"
     ]
    },
    {
     "name": "stdout",
     "output_type": "stream",
     "text": [
      "Iteration 4/10, Global Best Value: 0.662\n"
     ]
    },
    {
     "name": "stderr",
     "output_type": "stream",
     "text": [
      "\n",
      "  0%|          | 0/6 [00:00<?, ?it/s]\u001b[A\n",
      " 17%|█▋        | 1/6 [00:08<00:41,  8.37s/it]\u001b[A\n",
      " 33%|███▎      | 2/6 [00:16<00:34,  8.52s/it]\u001b[A\n",
      " 50%|█████     | 3/6 [00:19<00:17,  5.67s/it]\u001b[A\n",
      " 67%|██████▋   | 4/6 [00:21<00:08,  4.39s/it]\u001b[A\n",
      " 83%|████████▎ | 5/6 [00:32<00:06,  6.70s/it]\u001b[A\n",
      "100%|██████████| 6/6 [00:36<00:00,  6.17s/it]\n"
     ]
    },
    {
     "name": "stdout",
     "output_type": "stream",
     "text": [
      "Iteration 5/10, Global Best Value: 0.662\n"
     ]
    },
    {
     "name": "stderr",
     "output_type": "stream",
     "text": [
      "\n",
      "  0%|          | 0/6 [00:00<?, ?it/s]\u001b[A\n",
      " 17%|█▋        | 1/6 [00:06<00:31,  6.31s/it]\u001b[A\n",
      " 33%|███▎      | 2/6 [00:10<00:20,  5.15s/it]\u001b[A\n",
      " 50%|█████     | 3/6 [00:13<00:11,  3.90s/it]\u001b[A\n",
      " 67%|██████▋   | 4/6 [00:18<00:09,  4.55s/it]\u001b[A\n",
      " 83%|████████▎ | 5/6 [00:23<00:04,  4.71s/it]\u001b[A\n",
      "100%|██████████| 6/6 [00:29<00:00,  4.85s/it]\n"
     ]
    },
    {
     "name": "stdout",
     "output_type": "stream",
     "text": [
      "Iteration 6/10, Global Best Value: 0.662\n"
     ]
    },
    {
     "name": "stderr",
     "output_type": "stream",
     "text": [
      "\n",
      "  0%|          | 0/6 [00:00<?, ?it/s]\u001b[A\n",
      " 17%|█▋        | 1/6 [00:06<00:33,  6.67s/it]\u001b[A\n",
      " 33%|███▎      | 2/6 [00:12<00:25,  6.36s/it]\u001b[A\n",
      " 50%|█████     | 3/6 [00:23<00:24,  8.17s/it]\u001b[A\n",
      " 67%|██████▋   | 4/6 [00:34<00:18,  9.47s/it]\u001b[A\n",
      " 83%|████████▎ | 5/6 [00:37<00:06,  6.93s/it]\u001b[A\n",
      "100%|██████████| 6/6 [00:41<00:00,  6.86s/it]\n"
     ]
    },
    {
     "name": "stdout",
     "output_type": "stream",
     "text": [
      "Iteration 7/10, Global Best Value: 0.662\n"
     ]
    },
    {
     "name": "stderr",
     "output_type": "stream",
     "text": [
      "\n",
      "  0%|          | 0/6 [00:00<?, ?it/s]\u001b[A\n",
      " 17%|█▋        | 1/6 [00:06<00:34,  6.85s/it]\u001b[A\n",
      " 33%|███▎      | 2/6 [00:10<00:20,  5.10s/it]\u001b[A\n",
      " 50%|█████     | 3/6 [00:15<00:14,  4.90s/it]\u001b[A\n",
      " 67%|██████▋   | 4/6 [00:21<00:10,  5.46s/it]\u001b[A\n",
      " 83%|████████▎ | 5/6 [00:28<00:06,  6.04s/it]\u001b[A\n",
      "100%|██████████| 6/6 [00:37<00:00,  6.27s/it]\n"
     ]
    },
    {
     "name": "stdout",
     "output_type": "stream",
     "text": [
      "Iteration 8/10, Global Best Value: 0.662\n"
     ]
    },
    {
     "name": "stderr",
     "output_type": "stream",
     "text": [
      "\n",
      "  0%|          | 0/6 [00:00<?, ?it/s]\u001b[A\n",
      " 17%|█▋        | 1/6 [00:03<00:16,  3.31s/it]\u001b[A\n",
      " 33%|███▎      | 2/6 [00:07<00:14,  3.73s/it]\u001b[A\n",
      " 50%|█████     | 3/6 [00:12<00:12,  4.18s/it]\u001b[A\n",
      " 67%|██████▋   | 4/6 [00:16<00:08,  4.13s/it]\u001b[A\n",
      " 83%|████████▎ | 5/6 [00:18<00:03,  3.66s/it]\u001b[A\n",
      "100%|██████████| 6/6 [00:21<00:00,  3.55s/it]\n"
     ]
    },
    {
     "name": "stdout",
     "output_type": "stream",
     "text": [
      "Iteration 9/10, Global Best Value: 0.662\n"
     ]
    },
    {
     "name": "stderr",
     "output_type": "stream",
     "text": [
      "\n",
      "  0%|          | 0/6 [00:00<?, ?it/s]\u001b[A\n",
      " 17%|█▋        | 1/6 [00:03<00:16,  3.35s/it]\u001b[A\n",
      " 33%|███▎      | 2/6 [00:08<00:17,  4.48s/it]\u001b[A\n",
      " 50%|█████     | 3/6 [00:10<00:10,  3.52s/it]\u001b[A\n",
      " 67%|██████▋   | 4/6 [00:14<00:06,  3.42s/it]\u001b[A\n",
      " 83%|████████▎ | 5/6 [00:23<00:05,  5.36s/it]\u001b[A\n",
      "100%|██████████| 6/6 [00:25<00:00,  4.22s/it]"
     ]
    },
    {
     "name": "stdout",
     "output_type": "stream",
     "text": [
      "Iteration 10/10, Global Best Value: 0.662\n"
     ]
    },
    {
     "name": "stderr",
     "output_type": "stream",
     "text": [
      "\n"
     ]
    }
   ],
   "source": [
    "# PSO main loop\n",
    "for t in range(max_iter):\n",
    "    for i in tqdm(range(num_particles)):\n",
    "        # Update velocities\n",
    "        r1 = np.random.rand(dimensions)\n",
    "        r2 = np.random.rand(dimensions)\n",
    "        particles_velocity[i] = (\n",
    "            w * particles_velocity[i] +\n",
    "            c1 * r1 * (pBest_position[i] - particles_position[i]) +\n",
    "            c2 * r2 * (gBest_position - particles_position[i])\n",
    "        )\n",
    "\n",
    "        # Update positions using sigmoid function\n",
    "        sigmoid = 1 / (1 + np.exp(-particles_velocity[i]))\n",
    "        particles_position[i] = np.where(np.random.rand(dimensions) < sigmoid, 1, 0)\n",
    "\n",
    "        # Evaluate fitness\n",
    "        fitness = objective_function(particles_position[i])\n",
    "\n",
    "        # Update personal best\n",
    "        if fitness > pBest_value[i]:\n",
    "            pBest_position[i] = particles_position[i]\n",
    "            pBest_value[i] = fitness\n",
    "\n",
    "    # Update global best\n",
    "    if np.max(pBest_value) > gBest_value:\n",
    "        gBest_position = pBest_position[np.argmax(pBest_value)]\n",
    "        gBest_value = np.max(pBest_value)\n",
    "\n",
    "    # Decay inertia weight\n",
    "    w *= w_decay\n",
    "\n",
    "    # Print progress\n",
    "    print(f\"Iteration {t+1}/{max_iter}, Global Best Value: {gBest_value:0.3f}\")\n"
   ]
  },
  {
   "cell_type": "code",
   "execution_count": 29,
   "metadata": {
    "colab": {
     "base_uri": "https://localhost:8080/"
    },
    "id": "-FTv-bPyap38",
    "outputId": "83680bbc-4d0c-402d-f9e9-b765d5ad8d48"
   },
   "outputs": [
    {
     "name": "stdout",
     "output_type": "stream",
     "text": [
      "Best feature subset: [0 1 1 1 1 1 1 0 0 1 0 0 1 1 0 1 0 0 1]\n",
      "Best accuracy: 0.6615091910449896\n"
     ]
    }
   ],
   "source": [
    "# Results\n",
    "print(\"Best feature subset:\", gBest_position)\n",
    "print(\"Best accuracy:\", gBest_value)"
   ]
  },
  {
   "cell_type": "code",
   "execution_count": 38,
   "metadata": {
    "colab": {
     "base_uri": "https://localhost:8080/"
    },
    "id": "pq6CjOz4csWi",
    "outputId": "96a6523d-f0d4-4be7-cbdd-ed29ce5603b8"
   },
   "outputs": [
    {
     "name": "stdout",
     "output_type": "stream",
     "text": [
      "Selected columns are:\n",
      "MEDICAL_UNIT\n",
      "SEX\n",
      "PATIENT_TYPE\n",
      "INTUBED\n",
      "PNEUMONIA\n",
      "AGE\n",
      "COPD\n",
      "HIPERTENSION\n",
      "OTHER_DISEASE\n",
      "OBESITY\n",
      "ICU\n"
     ]
    }
   ],
   "source": [
    "selected_cols = covid_df.drop(columns = ['CLASIFFICATION_FINAL', 'DATE_DIED']).columns[np.array(gBest_position).astype(bool)]\n",
    "\n",
    "print(\"Selected columns are:\", *selected_cols.values, sep=\"\\n\")"
   ]
  },
  {
   "cell_type": "code",
   "execution_count": null,
   "metadata": {
    "id": "R6aDje47eqkb"
   },
   "outputs": [],
   "source": []
  }
 ],
 "metadata": {
  "colab": {
   "authorship_tag": "ABX9TyMoKIT2mz3lkRYGXDjJ9Pt7",
   "include_colab_link": true,
   "provenance": []
  },
  "kernelspec": {
   "display_name": "Python 3 (ipykernel)",
   "language": "python",
   "name": "python3"
  },
  "language_info": {
   "codemirror_mode": {
    "name": "ipython",
    "version": 3
   },
   "file_extension": ".py",
   "mimetype": "text/x-python",
   "name": "python",
   "nbconvert_exporter": "python",
   "pygments_lexer": "ipython3",
   "version": "3.10.11"
  }
 },
 "nbformat": 4,
 "nbformat_minor": 4
}
