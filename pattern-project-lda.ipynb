{
 "cells": [
  {
   "cell_type": "code",
   "execution_count": 34,
   "metadata": {
    "_cell_guid": "b1076dfc-b9ad-4769-8c92-a6c4dae69d19",
    "_uuid": "8f2839f25d086af736a60e9eeb907d3b93b6e0e5",
    "execution": {
     "iopub.execute_input": "2024-05-17T15:46:43.575739Z",
     "iopub.status.busy": "2024-05-17T15:46:43.574800Z",
     "iopub.status.idle": "2024-05-17T15:46:43.580770Z",
     "shell.execute_reply": "2024-05-17T15:46:43.579860Z",
     "shell.execute_reply.started": "2024-05-17T15:46:43.575703Z"
    }
   },
   "outputs": [],
   "source": [
    "import numpy as np # linear algebra\n",
    "import pandas as pd # data processing, CSV file I/O (e.g. pd.read_csv)\n",
    "from sklearn.model_selection import train_test_split\n",
    "from sklearn.metrics import accuracy_score, classification_report\n",
    "# Using KNN classifier for demonstration purposes\n",
    "from sklearn.ensemble import RandomForestClassifier\n",
    "from sklearn.model_selection import GridSearchCV\n",
    "from sklearn.neighbors import KNeighborsClassifier"
   ]
  },
  {
   "cell_type": "code",
   "execution_count": 20,
   "metadata": {
    "execution": {
     "iopub.execute_input": "2024-05-17T15:44:25.904786Z",
     "iopub.status.busy": "2024-05-17T15:44:25.904541Z",
     "iopub.status.idle": "2024-05-17T15:44:27.489606Z",
     "shell.execute_reply": "2024-05-17T15:44:27.488730Z",
     "shell.execute_reply.started": "2024-05-17T15:44:25.904765Z"
    }
   },
   "outputs": [
    {
     "data": {
      "text/html": [
       "<div>\n",
       "<style scoped>\n",
       "    .dataframe tbody tr th:only-of-type {\n",
       "        vertical-align: middle;\n",
       "    }\n",
       "\n",
       "    .dataframe tbody tr th {\n",
       "        vertical-align: top;\n",
       "    }\n",
       "\n",
       "    .dataframe thead th {\n",
       "        text-align: right;\n",
       "    }\n",
       "</style>\n",
       "<table border=\"1\" class=\"dataframe\">\n",
       "  <thead>\n",
       "    <tr style=\"text-align: right;\">\n",
       "      <th></th>\n",
       "      <th>USMER</th>\n",
       "      <th>MEDICAL_UNIT</th>\n",
       "      <th>SEX</th>\n",
       "      <th>PATIENT_TYPE</th>\n",
       "      <th>DATE_DIED</th>\n",
       "      <th>INTUBED</th>\n",
       "      <th>PNEUMONIA</th>\n",
       "      <th>AGE</th>\n",
       "      <th>PREGNANT</th>\n",
       "      <th>DIABETES</th>\n",
       "      <th>...</th>\n",
       "      <th>ASTHMA</th>\n",
       "      <th>INMSUPR</th>\n",
       "      <th>HIPERTENSION</th>\n",
       "      <th>OTHER_DISEASE</th>\n",
       "      <th>CARDIOVASCULAR</th>\n",
       "      <th>OBESITY</th>\n",
       "      <th>RENAL_CHRONIC</th>\n",
       "      <th>TOBACCO</th>\n",
       "      <th>CLASIFFICATION_FINAL</th>\n",
       "      <th>ICU</th>\n",
       "    </tr>\n",
       "  </thead>\n",
       "  <tbody>\n",
       "    <tr>\n",
       "      <th>0</th>\n",
       "      <td>2</td>\n",
       "      <td>1</td>\n",
       "      <td>1</td>\n",
       "      <td>1</td>\n",
       "      <td>03/05/2020</td>\n",
       "      <td>97</td>\n",
       "      <td>1</td>\n",
       "      <td>65</td>\n",
       "      <td>2</td>\n",
       "      <td>2</td>\n",
       "      <td>...</td>\n",
       "      <td>2</td>\n",
       "      <td>2</td>\n",
       "      <td>1</td>\n",
       "      <td>2</td>\n",
       "      <td>2</td>\n",
       "      <td>2</td>\n",
       "      <td>2</td>\n",
       "      <td>2</td>\n",
       "      <td>3</td>\n",
       "      <td>97</td>\n",
       "    </tr>\n",
       "    <tr>\n",
       "      <th>1</th>\n",
       "      <td>2</td>\n",
       "      <td>1</td>\n",
       "      <td>2</td>\n",
       "      <td>1</td>\n",
       "      <td>03/06/2020</td>\n",
       "      <td>97</td>\n",
       "      <td>1</td>\n",
       "      <td>72</td>\n",
       "      <td>97</td>\n",
       "      <td>2</td>\n",
       "      <td>...</td>\n",
       "      <td>2</td>\n",
       "      <td>2</td>\n",
       "      <td>1</td>\n",
       "      <td>2</td>\n",
       "      <td>2</td>\n",
       "      <td>1</td>\n",
       "      <td>1</td>\n",
       "      <td>2</td>\n",
       "      <td>5</td>\n",
       "      <td>97</td>\n",
       "    </tr>\n",
       "    <tr>\n",
       "      <th>2</th>\n",
       "      <td>2</td>\n",
       "      <td>1</td>\n",
       "      <td>2</td>\n",
       "      <td>2</td>\n",
       "      <td>09/06/2020</td>\n",
       "      <td>1</td>\n",
       "      <td>2</td>\n",
       "      <td>55</td>\n",
       "      <td>97</td>\n",
       "      <td>1</td>\n",
       "      <td>...</td>\n",
       "      <td>2</td>\n",
       "      <td>2</td>\n",
       "      <td>2</td>\n",
       "      <td>2</td>\n",
       "      <td>2</td>\n",
       "      <td>2</td>\n",
       "      <td>2</td>\n",
       "      <td>2</td>\n",
       "      <td>3</td>\n",
       "      <td>2</td>\n",
       "    </tr>\n",
       "    <tr>\n",
       "      <th>3</th>\n",
       "      <td>2</td>\n",
       "      <td>1</td>\n",
       "      <td>1</td>\n",
       "      <td>1</td>\n",
       "      <td>12/06/2020</td>\n",
       "      <td>97</td>\n",
       "      <td>2</td>\n",
       "      <td>53</td>\n",
       "      <td>2</td>\n",
       "      <td>2</td>\n",
       "      <td>...</td>\n",
       "      <td>2</td>\n",
       "      <td>2</td>\n",
       "      <td>2</td>\n",
       "      <td>2</td>\n",
       "      <td>2</td>\n",
       "      <td>2</td>\n",
       "      <td>2</td>\n",
       "      <td>2</td>\n",
       "      <td>7</td>\n",
       "      <td>97</td>\n",
       "    </tr>\n",
       "    <tr>\n",
       "      <th>4</th>\n",
       "      <td>2</td>\n",
       "      <td>1</td>\n",
       "      <td>2</td>\n",
       "      <td>1</td>\n",
       "      <td>21/06/2020</td>\n",
       "      <td>97</td>\n",
       "      <td>2</td>\n",
       "      <td>68</td>\n",
       "      <td>97</td>\n",
       "      <td>1</td>\n",
       "      <td>...</td>\n",
       "      <td>2</td>\n",
       "      <td>2</td>\n",
       "      <td>1</td>\n",
       "      <td>2</td>\n",
       "      <td>2</td>\n",
       "      <td>2</td>\n",
       "      <td>2</td>\n",
       "      <td>2</td>\n",
       "      <td>3</td>\n",
       "      <td>97</td>\n",
       "    </tr>\n",
       "  </tbody>\n",
       "</table>\n",
       "<p>5 rows × 21 columns</p>\n",
       "</div>"
      ],
      "text/plain": [
       "   USMER  MEDICAL_UNIT  SEX  PATIENT_TYPE   DATE_DIED  INTUBED  PNEUMONIA  \\\n",
       "0      2             1    1             1  03/05/2020       97          1   \n",
       "1      2             1    2             1  03/06/2020       97          1   \n",
       "2      2             1    2             2  09/06/2020        1          2   \n",
       "3      2             1    1             1  12/06/2020       97          2   \n",
       "4      2             1    2             1  21/06/2020       97          2   \n",
       "\n",
       "   AGE  PREGNANT  DIABETES  ...  ASTHMA  INMSUPR  HIPERTENSION  OTHER_DISEASE  \\\n",
       "0   65         2         2  ...       2        2             1              2   \n",
       "1   72        97         2  ...       2        2             1              2   \n",
       "2   55        97         1  ...       2        2             2              2   \n",
       "3   53         2         2  ...       2        2             2              2   \n",
       "4   68        97         1  ...       2        2             1              2   \n",
       "\n",
       "   CARDIOVASCULAR  OBESITY  RENAL_CHRONIC  TOBACCO  CLASIFFICATION_FINAL  ICU  \n",
       "0               2        2              2        2                     3   97  \n",
       "1               2        1              1        2                     5   97  \n",
       "2               2        2              2        2                     3    2  \n",
       "3               2        2              2        2                     7   97  \n",
       "4               2        2              2        2                     3   97  \n",
       "\n",
       "[5 rows x 21 columns]"
      ]
     },
     "execution_count": 20,
     "metadata": {},
     "output_type": "execute_result"
    }
   ],
   "source": [
    "df_path = '/kaggle/input/covid19-dataset/Covid Data.csv'\n",
    "\n",
    "df = pd.read_csv(df_path)\n",
    "df.head()"
   ]
  },
  {
   "cell_type": "code",
   "execution_count": 21,
   "metadata": {
    "execution": {
     "iopub.execute_input": "2024-05-17T15:44:27.491598Z",
     "iopub.status.busy": "2024-05-17T15:44:27.491274Z",
     "iopub.status.idle": "2024-05-17T15:44:27.786863Z",
     "shell.execute_reply": "2024-05-17T15:44:27.785969Z",
     "shell.execute_reply.started": "2024-05-17T15:44:27.491570Z"
    }
   },
   "outputs": [
    {
     "data": {
      "text/plain": [
       "812049"
      ]
     },
     "execution_count": 21,
     "metadata": {},
     "output_type": "execute_result"
    }
   ],
   "source": [
    "# Checking the number of identical records\n",
    "df.duplicated().sum()"
   ]
  },
  {
   "cell_type": "code",
   "execution_count": 22,
   "metadata": {
    "execution": {
     "iopub.execute_input": "2024-05-17T15:44:27.788599Z",
     "iopub.status.busy": "2024-05-17T15:44:27.788213Z",
     "iopub.status.idle": "2024-05-17T15:44:27.846405Z",
     "shell.execute_reply": "2024-05-17T15:44:27.845579Z",
     "shell.execute_reply.started": "2024-05-17T15:44:27.788564Z"
    }
   },
   "outputs": [],
   "source": [
    "df = df.drop('DATE_DIED', axis=1)"
   ]
  },
  {
   "cell_type": "code",
   "execution_count": 23,
   "metadata": {
    "execution": {
     "iopub.execute_input": "2024-05-17T15:44:27.848793Z",
     "iopub.status.busy": "2024-05-17T15:44:27.848475Z",
     "iopub.status.idle": "2024-05-17T15:44:28.088745Z",
     "shell.execute_reply": "2024-05-17T15:44:28.087825Z",
     "shell.execute_reply.started": "2024-05-17T15:44:27.848755Z"
    }
   },
   "outputs": [
    {
     "data": {
      "text/html": [
       "<div>\n",
       "<style scoped>\n",
       "    .dataframe tbody tr th:only-of-type {\n",
       "        vertical-align: middle;\n",
       "    }\n",
       "\n",
       "    .dataframe tbody tr th {\n",
       "        vertical-align: top;\n",
       "    }\n",
       "\n",
       "    .dataframe thead th {\n",
       "        text-align: right;\n",
       "    }\n",
       "</style>\n",
       "<table border=\"1\" class=\"dataframe\">\n",
       "  <thead>\n",
       "    <tr style=\"text-align: right;\">\n",
       "      <th></th>\n",
       "      <th>USMER</th>\n",
       "      <th>MEDICAL_UNIT</th>\n",
       "      <th>SEX</th>\n",
       "      <th>PATIENT_TYPE</th>\n",
       "      <th>INTUBED</th>\n",
       "      <th>PNEUMONIA</th>\n",
       "      <th>AGE</th>\n",
       "      <th>PREGNANT</th>\n",
       "      <th>DIABETES</th>\n",
       "      <th>COPD</th>\n",
       "      <th>ASTHMA</th>\n",
       "      <th>INMSUPR</th>\n",
       "      <th>HIPERTENSION</th>\n",
       "      <th>OTHER_DISEASE</th>\n",
       "      <th>CARDIOVASCULAR</th>\n",
       "      <th>OBESITY</th>\n",
       "      <th>RENAL_CHRONIC</th>\n",
       "      <th>TOBACCO</th>\n",
       "      <th>CLASIFFICATION_FINAL</th>\n",
       "      <th>ICU</th>\n",
       "    </tr>\n",
       "  </thead>\n",
       "  <tbody>\n",
       "    <tr>\n",
       "      <th>0</th>\n",
       "      <td>2</td>\n",
       "      <td>1</td>\n",
       "      <td>1</td>\n",
       "      <td>1</td>\n",
       "      <td>97</td>\n",
       "      <td>1</td>\n",
       "      <td>65</td>\n",
       "      <td>2</td>\n",
       "      <td>2</td>\n",
       "      <td>2</td>\n",
       "      <td>2</td>\n",
       "      <td>2</td>\n",
       "      <td>1</td>\n",
       "      <td>2</td>\n",
       "      <td>2</td>\n",
       "      <td>2</td>\n",
       "      <td>2</td>\n",
       "      <td>2</td>\n",
       "      <td>3</td>\n",
       "      <td>97</td>\n",
       "    </tr>\n",
       "    <tr>\n",
       "      <th>1</th>\n",
       "      <td>2</td>\n",
       "      <td>1</td>\n",
       "      <td>2</td>\n",
       "      <td>1</td>\n",
       "      <td>97</td>\n",
       "      <td>1</td>\n",
       "      <td>72</td>\n",
       "      <td>97</td>\n",
       "      <td>2</td>\n",
       "      <td>2</td>\n",
       "      <td>2</td>\n",
       "      <td>2</td>\n",
       "      <td>1</td>\n",
       "      <td>2</td>\n",
       "      <td>2</td>\n",
       "      <td>1</td>\n",
       "      <td>1</td>\n",
       "      <td>2</td>\n",
       "      <td>5</td>\n",
       "      <td>97</td>\n",
       "    </tr>\n",
       "    <tr>\n",
       "      <th>2</th>\n",
       "      <td>2</td>\n",
       "      <td>1</td>\n",
       "      <td>2</td>\n",
       "      <td>2</td>\n",
       "      <td>1</td>\n",
       "      <td>2</td>\n",
       "      <td>55</td>\n",
       "      <td>97</td>\n",
       "      <td>1</td>\n",
       "      <td>2</td>\n",
       "      <td>2</td>\n",
       "      <td>2</td>\n",
       "      <td>2</td>\n",
       "      <td>2</td>\n",
       "      <td>2</td>\n",
       "      <td>2</td>\n",
       "      <td>2</td>\n",
       "      <td>2</td>\n",
       "      <td>3</td>\n",
       "      <td>2</td>\n",
       "    </tr>\n",
       "    <tr>\n",
       "      <th>3</th>\n",
       "      <td>2</td>\n",
       "      <td>1</td>\n",
       "      <td>1</td>\n",
       "      <td>1</td>\n",
       "      <td>97</td>\n",
       "      <td>2</td>\n",
       "      <td>53</td>\n",
       "      <td>2</td>\n",
       "      <td>2</td>\n",
       "      <td>2</td>\n",
       "      <td>2</td>\n",
       "      <td>2</td>\n",
       "      <td>2</td>\n",
       "      <td>2</td>\n",
       "      <td>2</td>\n",
       "      <td>2</td>\n",
       "      <td>2</td>\n",
       "      <td>2</td>\n",
       "      <td>7</td>\n",
       "      <td>97</td>\n",
       "    </tr>\n",
       "    <tr>\n",
       "      <th>4</th>\n",
       "      <td>2</td>\n",
       "      <td>1</td>\n",
       "      <td>2</td>\n",
       "      <td>1</td>\n",
       "      <td>97</td>\n",
       "      <td>2</td>\n",
       "      <td>68</td>\n",
       "      <td>97</td>\n",
       "      <td>1</td>\n",
       "      <td>2</td>\n",
       "      <td>2</td>\n",
       "      <td>2</td>\n",
       "      <td>1</td>\n",
       "      <td>2</td>\n",
       "      <td>2</td>\n",
       "      <td>2</td>\n",
       "      <td>2</td>\n",
       "      <td>2</td>\n",
       "      <td>3</td>\n",
       "      <td>97</td>\n",
       "    </tr>\n",
       "    <tr>\n",
       "      <th>...</th>\n",
       "      <td>...</td>\n",
       "      <td>...</td>\n",
       "      <td>...</td>\n",
       "      <td>...</td>\n",
       "      <td>...</td>\n",
       "      <td>...</td>\n",
       "      <td>...</td>\n",
       "      <td>...</td>\n",
       "      <td>...</td>\n",
       "      <td>...</td>\n",
       "      <td>...</td>\n",
       "      <td>...</td>\n",
       "      <td>...</td>\n",
       "      <td>...</td>\n",
       "      <td>...</td>\n",
       "      <td>...</td>\n",
       "      <td>...</td>\n",
       "      <td>...</td>\n",
       "      <td>...</td>\n",
       "      <td>...</td>\n",
       "    </tr>\n",
       "    <tr>\n",
       "      <th>197458</th>\n",
       "      <td>1</td>\n",
       "      <td>13</td>\n",
       "      <td>2</td>\n",
       "      <td>1</td>\n",
       "      <td>97</td>\n",
       "      <td>2</td>\n",
       "      <td>47</td>\n",
       "      <td>97</td>\n",
       "      <td>1</td>\n",
       "      <td>2</td>\n",
       "      <td>2</td>\n",
       "      <td>2</td>\n",
       "      <td>2</td>\n",
       "      <td>2</td>\n",
       "      <td>2</td>\n",
       "      <td>2</td>\n",
       "      <td>2</td>\n",
       "      <td>2</td>\n",
       "      <td>7</td>\n",
       "      <td>97</td>\n",
       "    </tr>\n",
       "    <tr>\n",
       "      <th>197459</th>\n",
       "      <td>1</td>\n",
       "      <td>13</td>\n",
       "      <td>1</td>\n",
       "      <td>2</td>\n",
       "      <td>2</td>\n",
       "      <td>2</td>\n",
       "      <td>56</td>\n",
       "      <td>2</td>\n",
       "      <td>1</td>\n",
       "      <td>2</td>\n",
       "      <td>2</td>\n",
       "      <td>2</td>\n",
       "      <td>2</td>\n",
       "      <td>2</td>\n",
       "      <td>2</td>\n",
       "      <td>2</td>\n",
       "      <td>2</td>\n",
       "      <td>2</td>\n",
       "      <td>7</td>\n",
       "      <td>2</td>\n",
       "    </tr>\n",
       "    <tr>\n",
       "      <th>197460</th>\n",
       "      <td>1</td>\n",
       "      <td>13</td>\n",
       "      <td>2</td>\n",
       "      <td>2</td>\n",
       "      <td>2</td>\n",
       "      <td>2</td>\n",
       "      <td>51</td>\n",
       "      <td>97</td>\n",
       "      <td>2</td>\n",
       "      <td>2</td>\n",
       "      <td>2</td>\n",
       "      <td>2</td>\n",
       "      <td>1</td>\n",
       "      <td>2</td>\n",
       "      <td>2</td>\n",
       "      <td>2</td>\n",
       "      <td>2</td>\n",
       "      <td>2</td>\n",
       "      <td>7</td>\n",
       "      <td>2</td>\n",
       "    </tr>\n",
       "    <tr>\n",
       "      <th>197461</th>\n",
       "      <td>2</td>\n",
       "      <td>13</td>\n",
       "      <td>2</td>\n",
       "      <td>1</td>\n",
       "      <td>97</td>\n",
       "      <td>2</td>\n",
       "      <td>55</td>\n",
       "      <td>97</td>\n",
       "      <td>2</td>\n",
       "      <td>2</td>\n",
       "      <td>2</td>\n",
       "      <td>2</td>\n",
       "      <td>2</td>\n",
       "      <td>2</td>\n",
       "      <td>2</td>\n",
       "      <td>2</td>\n",
       "      <td>2</td>\n",
       "      <td>2</td>\n",
       "      <td>7</td>\n",
       "      <td>97</td>\n",
       "    </tr>\n",
       "    <tr>\n",
       "      <th>197462</th>\n",
       "      <td>2</td>\n",
       "      <td>13</td>\n",
       "      <td>2</td>\n",
       "      <td>1</td>\n",
       "      <td>97</td>\n",
       "      <td>2</td>\n",
       "      <td>52</td>\n",
       "      <td>97</td>\n",
       "      <td>2</td>\n",
       "      <td>2</td>\n",
       "      <td>2</td>\n",
       "      <td>2</td>\n",
       "      <td>2</td>\n",
       "      <td>2</td>\n",
       "      <td>2</td>\n",
       "      <td>2</td>\n",
       "      <td>2</td>\n",
       "      <td>2</td>\n",
       "      <td>7</td>\n",
       "      <td>97</td>\n",
       "    </tr>\n",
       "  </tbody>\n",
       "</table>\n",
       "<p>197463 rows × 20 columns</p>\n",
       "</div>"
      ],
      "text/plain": [
       "        USMER  MEDICAL_UNIT  SEX  PATIENT_TYPE  INTUBED  PNEUMONIA  AGE  \\\n",
       "0           2             1    1             1       97          1   65   \n",
       "1           2             1    2             1       97          1   72   \n",
       "2           2             1    2             2        1          2   55   \n",
       "3           2             1    1             1       97          2   53   \n",
       "4           2             1    2             1       97          2   68   \n",
       "...       ...           ...  ...           ...      ...        ...  ...   \n",
       "197458      1            13    2             1       97          2   47   \n",
       "197459      1            13    1             2        2          2   56   \n",
       "197460      1            13    2             2        2          2   51   \n",
       "197461      2            13    2             1       97          2   55   \n",
       "197462      2            13    2             1       97          2   52   \n",
       "\n",
       "        PREGNANT  DIABETES  COPD  ASTHMA  INMSUPR  HIPERTENSION  \\\n",
       "0              2         2     2       2        2             1   \n",
       "1             97         2     2       2        2             1   \n",
       "2             97         1     2       2        2             2   \n",
       "3              2         2     2       2        2             2   \n",
       "4             97         1     2       2        2             1   \n",
       "...          ...       ...   ...     ...      ...           ...   \n",
       "197458        97         1     2       2        2             2   \n",
       "197459         2         1     2       2        2             2   \n",
       "197460        97         2     2       2        2             1   \n",
       "197461        97         2     2       2        2             2   \n",
       "197462        97         2     2       2        2             2   \n",
       "\n",
       "        OTHER_DISEASE  CARDIOVASCULAR  OBESITY  RENAL_CHRONIC  TOBACCO  \\\n",
       "0                   2               2        2              2        2   \n",
       "1                   2               2        1              1        2   \n",
       "2                   2               2        2              2        2   \n",
       "3                   2               2        2              2        2   \n",
       "4                   2               2        2              2        2   \n",
       "...               ...             ...      ...            ...      ...   \n",
       "197458              2               2        2              2        2   \n",
       "197459              2               2        2              2        2   \n",
       "197460              2               2        2              2        2   \n",
       "197461              2               2        2              2        2   \n",
       "197462              2               2        2              2        2   \n",
       "\n",
       "        CLASIFFICATION_FINAL  ICU  \n",
       "0                          3   97  \n",
       "1                          5   97  \n",
       "2                          3    2  \n",
       "3                          7   97  \n",
       "4                          3   97  \n",
       "...                      ...  ...  \n",
       "197458                     7   97  \n",
       "197459                     7    2  \n",
       "197460                     7    2  \n",
       "197461                     7   97  \n",
       "197462                     7   97  \n",
       "\n",
       "[197463 rows x 20 columns]"
      ]
     },
     "execution_count": 23,
     "metadata": {},
     "output_type": "execute_result"
    }
   ],
   "source": [
    "# Dropping duplicated rows\n",
    "df = df.drop_duplicates()\n",
    "# Resetting index\n",
    "df.reset_index(drop=True, inplace=True)\n",
    "df"
   ]
  },
  {
   "cell_type": "code",
   "execution_count": 24,
   "metadata": {
    "execution": {
     "iopub.execute_input": "2024-05-17T15:44:28.090108Z",
     "iopub.status.busy": "2024-05-17T15:44:28.089836Z",
     "iopub.status.idle": "2024-05-17T15:44:28.100497Z",
     "shell.execute_reply": "2024-05-17T15:44:28.099490Z",
     "shell.execute_reply.started": "2024-05-17T15:44:28.090084Z"
    }
   },
   "outputs": [
    {
     "data": {
      "text/plain": [
       "CLASIFFICATION_FINAL\n",
       "3    77051\n",
       "7    71212\n",
       "6    30528\n",
       "5    10733\n",
       "1     4636\n",
       "2     1688\n",
       "4     1615\n",
       "Name: count, dtype: int64"
      ]
     },
     "execution_count": 24,
     "metadata": {},
     "output_type": "execute_result"
    }
   ],
   "source": [
    "df.CLASIFFICATION_FINAL.value_counts()"
   ]
  },
  {
   "cell_type": "code",
   "execution_count": 25,
   "metadata": {
    "execution": {
     "iopub.execute_input": "2024-05-17T15:44:28.102529Z",
     "iopub.status.busy": "2024-05-17T15:44:28.102183Z",
     "iopub.status.idle": "2024-05-17T15:44:28.108469Z",
     "shell.execute_reply": "2024-05-17T15:44:28.107640Z",
     "shell.execute_reply.started": "2024-05-17T15:44:28.102498Z"
    }
   },
   "outputs": [],
   "source": [
    "\"\"\"\n",
    "As the range of \"CLASIFFICATION_FINAL\" column varies away,\n",
    "while the pationt is in covid-19 when his classification value below 4,\n",
    "here is the \"binarize_diagnosis\" function that maps the column into binary values\n",
    "where 1 for covid cariers and 0 for not cariers\n",
    "\"\"\"\n",
    "def binarize_diagnosis(\n",
    "    classification_value : int\n",
    "    ) -> int:\n",
    "    return int(classification_value < 4)"
   ]
  },
  {
   "cell_type": "code",
   "execution_count": 26,
   "metadata": {
    "execution": {
     "iopub.execute_input": "2024-05-17T15:44:28.109733Z",
     "iopub.status.busy": "2024-05-17T15:44:28.109492Z",
     "iopub.status.idle": "2024-05-17T15:44:28.252396Z",
     "shell.execute_reply": "2024-05-17T15:44:28.251572Z",
     "shell.execute_reply.started": "2024-05-17T15:44:28.109712Z"
    }
   },
   "outputs": [
    {
     "data": {
      "text/plain": [
       "CLASIFFICATION_FINAL\n",
       "0    114088\n",
       "1     83375\n",
       "Name: count, dtype: int64"
      ]
     },
     "execution_count": 26,
     "metadata": {},
     "output_type": "execute_result"
    }
   ],
   "source": [
    "# apply the \"binarize_diagnosis\" function over the \"CLASIFFICATION_FINAL\" column\n",
    "df.CLASIFFICATION_FINAL = df.CLASIFFICATION_FINAL.apply(binarize_diagnosis)\n",
    "\n",
    "df.CLASIFFICATION_FINAL.value_counts()"
   ]
  },
  {
   "cell_type": "code",
   "execution_count": 27,
   "metadata": {
    "execution": {
     "iopub.execute_input": "2024-05-17T15:44:28.253566Z",
     "iopub.status.busy": "2024-05-17T15:44:28.253294Z",
     "iopub.status.idle": "2024-05-17T15:44:28.272821Z",
     "shell.execute_reply": "2024-05-17T15:44:28.271968Z",
     "shell.execute_reply.started": "2024-05-17T15:44:28.253543Z"
    }
   },
   "outputs": [
    {
     "name": "stdout",
     "output_type": "stream",
     "text": [
      "<class 'pandas.core.frame.DataFrame'>\n",
      "RangeIndex: 197463 entries, 0 to 197462\n",
      "Data columns (total 19 columns):\n",
      " #   Column          Non-Null Count   Dtype\n",
      "---  ------          --------------   -----\n",
      " 0   USMER           197463 non-null  int64\n",
      " 1   MEDICAL_UNIT    197463 non-null  int64\n",
      " 2   SEX             197463 non-null  int64\n",
      " 3   PATIENT_TYPE    197463 non-null  int64\n",
      " 4   INTUBED         197463 non-null  int64\n",
      " 5   PNEUMONIA       197463 non-null  int64\n",
      " 6   AGE             197463 non-null  int64\n",
      " 7   PREGNANT        197463 non-null  int64\n",
      " 8   DIABETES        197463 non-null  int64\n",
      " 9   COPD            197463 non-null  int64\n",
      " 10  ASTHMA          197463 non-null  int64\n",
      " 11  INMSUPR         197463 non-null  int64\n",
      " 12  HIPERTENSION    197463 non-null  int64\n",
      " 13  OTHER_DISEASE   197463 non-null  int64\n",
      " 14  CARDIOVASCULAR  197463 non-null  int64\n",
      " 15  OBESITY         197463 non-null  int64\n",
      " 16  RENAL_CHRONIC   197463 non-null  int64\n",
      " 17  TOBACCO         197463 non-null  int64\n",
      " 18  ICU             197463 non-null  int64\n",
      "dtypes: int64(19)\n",
      "memory usage: 28.6 MB\n"
     ]
    }
   ],
   "source": [
    "# Chosing target feature\n",
    "target = \"CLASIFFICATION_FINAL\"\n",
    "\n",
    "# Splitting data\n",
    "X = df.drop(target, axis=1)\n",
    "y = df[target]\n",
    "\n",
    "# Printing X\n",
    "X.info()"
   ]
  },
  {
   "cell_type": "code",
   "execution_count": 28,
   "metadata": {
    "execution": {
     "iopub.execute_input": "2024-05-17T15:44:28.274036Z",
     "iopub.status.busy": "2024-05-17T15:44:28.273777Z",
     "iopub.status.idle": "2024-05-17T15:44:28.279171Z",
     "shell.execute_reply": "2024-05-17T15:44:28.278158Z",
     "shell.execute_reply.started": "2024-05-17T15:44:28.274013Z"
    }
   },
   "outputs": [
    {
     "name": "stdout",
     "output_type": "stream",
     "text": [
      "Non-numeric columns: Index([], dtype='object')\n"
     ]
    }
   ],
   "source": [
    "non_numeric_cols = X.select_dtypes(include=['object', 'category']).columns\n",
    "print(\"Non-numeric columns:\", non_numeric_cols)"
   ]
  },
  {
   "cell_type": "code",
   "execution_count": 29,
   "metadata": {
    "execution": {
     "iopub.execute_input": "2024-05-17T15:44:28.282371Z",
     "iopub.status.busy": "2024-05-17T15:44:28.282039Z",
     "iopub.status.idle": "2024-05-17T15:44:28.319743Z",
     "shell.execute_reply": "2024-05-17T15:44:28.318960Z",
     "shell.execute_reply.started": "2024-05-17T15:44:28.282346Z"
    }
   },
   "outputs": [],
   "source": [
    "# Convert non-numeric columns to numeric (example: using one-hot encoding)\n",
    "X_encoded = pd.get_dummies(X, columns=non_numeric_cols)\n",
    "\n",
    "# Convert to numpy array\n",
    "X = X_encoded.values.astype(float)"
   ]
  },
  {
   "cell_type": "markdown",
   "metadata": {},
   "source": [
    "## To implement Linear Discriminant Analysis (LDA) from scratch, we need to follow these steps:\n",
    "\n",
    "1. Compute the mean vectors for each class.\n",
    "2. Compute the within-class scatter matrix.\n",
    "3. Compute the between-class scatter matrix.\n",
    "4. Compute the eigenvectors and eigenvalues of the matrix (S_w^-1 * S_b).\n",
    "5. Choose the k eigenvectors that correspond to the k largest eigenvalues to form the projection matrix W.\n",
    "6. Project the samples onto the new feature subspace."
   ]
  },
  {
   "cell_type": "markdown",
   "metadata": {},
   "source": [
    "### Linear Discriminant Analysis (LDA) Equations:\n",
    "\n",
    "#### Within-Class Scatter Matrix:\n",
    "\\[ S_W = sum_{c=1}^{C} sum_{i=1}^{n_c} (x_i^c - m_c)(x_i^c - m_c)^T \\]\n",
    "where:\n",
    "- \\( c \\) is the class label.\n",
    "- \\( n_c \\) is the number of samples in class \\( c \\).\n",
    "- \\( x_i^c \\) is the \\( i \\)-th sample in class \\( c \\).\n",
    "- \\( m_c \\) is the mean vector of class \\( c \\) samples.\n",
    "\n",
    "#### Between-Class Scatter Matrix:\n",
    "\\[ S_B = \\sum_{c=1}^{C} n_c (m_c - m)(m_c - m)^T \\]\n",
    "where:\n",
    "- \\( m \\) is the overall mean vector of all samples.\n",
    "\n",
    "#### Solving Eigenvalue Problem:\n",
    "\\[ S_W^{-1} S_B w = \\lambda w \\]\n",
    "where:\n",
    "- \\( w \\) is the eigenvector corresponding to the largest eigenvalue \\( \\lambda \\)."
   ]
  },
  {
   "cell_type": "code",
   "execution_count": null,
   "metadata": {},
   "outputs": [],
   "source": []
  },
  {
   "cell_type": "code",
   "execution_count": 30,
   "metadata": {
    "execution": {
     "iopub.execute_input": "2024-05-17T15:44:28.321319Z",
     "iopub.status.busy": "2024-05-17T15:44:28.320963Z",
     "iopub.status.idle": "2024-05-17T15:44:28.333304Z",
     "shell.execute_reply": "2024-05-17T15:44:28.332381Z",
     "shell.execute_reply.started": "2024-05-17T15:44:28.321286Z"
    }
   },
   "outputs": [],
   "source": [
    "import numpy as np\n",
    "\n",
    "class LinearDiscriminantAnalysis:\n",
    "    def __init__(self):\n",
    "        self.W = None\n",
    "        \n",
    "    def fit(self, X, y):\n",
    "        # Compute class means\n",
    "        self.class_means = {}\n",
    "        for c in np.unique(y):\n",
    "            self.class_means[c] = np.mean(X[y == c], axis=0)\n",
    "        \n",
    "        # Compute within-class scatter matrix\n",
    "        self.S_w = np.zeros((X.shape[1], X.shape[1]))\n",
    "        for c in self.class_means.keys():\n",
    "            class_scatter = np.zeros((X.shape[1], X.shape[1]))\n",
    "            for x in X[y == c]:\n",
    "                x, mean = x.reshape(-1, 1), self.class_means[c].reshape(-1, 1)\n",
    "                class_scatter += (x - mean).dot((x - mean).T)\n",
    "            self.S_w += class_scatter\n",
    "        \n",
    "        # Compute between-class scatter matrix\n",
    "        overall_mean = np.mean(X, axis=0).reshape(-1, 1)\n",
    "        self.S_b = np.zeros((X.shape[1], X.shape[1]))\n",
    "        for c in self.class_means.keys():\n",
    "            n = X[y == c].shape[0]\n",
    "            class_mean = self.class_means[c].reshape(-1, 1)\n",
    "            self.S_b += n * (class_mean - overall_mean).dot((class_mean - overall_mean).T)\n",
    "        \n",
    "        # Compute eigenvalues and eigenvectors of (S_w^-1 * S_b)\n",
    "        eig_vals, eig_vecs = np.linalg.eig(np.linalg.inv(self.S_w).dot(self.S_b))\n",
    "        \n",
    "        # Choose k eigenvectors corresponding to k largest eigenvalues\n",
    "        self.W = eig_vecs[:, np.argsort(eig_vals)[::-1][:1]]\n",
    "        \n",
    "    def transform(self, X):\n",
    "        # Transform data using LDA and return only the real part\n",
    "        return np.real(np.dot(X, self.W))"
   ]
  },
  {
   "cell_type": "code",
   "execution_count": 31,
   "metadata": {
    "execution": {
     "iopub.execute_input": "2024-05-17T15:44:28.334703Z",
     "iopub.status.busy": "2024-05-17T15:44:28.334412Z",
     "iopub.status.idle": "2024-05-17T15:44:28.389019Z",
     "shell.execute_reply": "2024-05-17T15:44:28.388209Z",
     "shell.execute_reply.started": "2024-05-17T15:44:28.334679Z"
    }
   },
   "outputs": [],
   "source": [
    "# Split the data into training and testing sets\n",
    "X_train, X_test, y_train, y_test = train_test_split(X, y, test_size=0.3, random_state=42)"
   ]
  },
  {
   "cell_type": "code",
   "execution_count": 32,
   "metadata": {
    "execution": {
     "iopub.execute_input": "2024-05-17T15:44:28.390497Z",
     "iopub.status.busy": "2024-05-17T15:44:28.390162Z",
     "iopub.status.idle": "2024-05-17T15:44:29.364448Z",
     "shell.execute_reply": "2024-05-17T15:44:29.362981Z",
     "shell.execute_reply.started": "2024-05-17T15:44:28.390465Z"
    }
   },
   "outputs": [],
   "source": [
    "# Apply LDA\n",
    "lda = LinearDiscriminantAnalysis()\n",
    "lda.fit(X_train, y_train)\n",
    "X_train_lda = lda.transform(X_train)\n",
    "X_test_lda = lda.transform(X_test)"
   ]
  },
  {
   "cell_type": "code",
   "execution_count": 35,
   "metadata": {
    "execution": {
     "iopub.execute_input": "2024-05-17T15:47:05.564798Z",
     "iopub.status.busy": "2024-05-17T15:47:05.564017Z",
     "iopub.status.idle": "2024-05-17T15:47:29.778705Z",
     "shell.execute_reply": "2024-05-17T15:47:29.777855Z",
     "shell.execute_reply.started": "2024-05-17T15:47:05.564765Z"
    }
   },
   "outputs": [
    {
     "name": "stderr",
     "output_type": "stream",
     "text": [
      "/opt/conda/lib/python3.10/site-packages/sklearn/utils/validation.py:605: FutureWarning: is_sparse is deprecated and will be removed in a future version. Check `isinstance(dtype, pd.SparseDtype)` instead.\n",
      "  if is_sparse(pd_dtype):\n",
      "/opt/conda/lib/python3.10/site-packages/sklearn/utils/validation.py:614: FutureWarning: is_sparse is deprecated and will be removed in a future version. Check `isinstance(dtype, pd.SparseDtype)` instead.\n",
      "  if is_sparse(pd_dtype) or not is_extension_array_dtype(pd_dtype):\n",
      "/opt/conda/lib/python3.10/site-packages/sklearn/utils/validation.py:605: FutureWarning: is_sparse is deprecated and will be removed in a future version. Check `isinstance(dtype, pd.SparseDtype)` instead.\n",
      "  if is_sparse(pd_dtype):\n",
      "/opt/conda/lib/python3.10/site-packages/sklearn/utils/validation.py:614: FutureWarning: is_sparse is deprecated and will be removed in a future version. Check `isinstance(dtype, pd.SparseDtype)` instead.\n",
      "  if is_sparse(pd_dtype) or not is_extension_array_dtype(pd_dtype):\n"
     ]
    }
   ],
   "source": [
    "# Feature selection using Random Forest feature importance\n",
    "rf = RandomForestClassifier(n_estimators=100, random_state=42)\n",
    "knn = KNeighborsClassifier(n_neighbors=3)\n",
    "\n",
    "rf.fit(X_train, y_train)\n",
    "knn.fit(X_train_lda, y_train)\n",
    "\n",
    "# Predict the labels\n",
    "y_pred_knn = knn.predict(X_test_lda)\n",
    "y_pred_rf = knn.predict(X_test_lda)"
   ]
  },
  {
   "cell_type": "code",
   "execution_count": 36,
   "metadata": {
    "execution": {
     "iopub.execute_input": "2024-05-17T15:47:29.780724Z",
     "iopub.status.busy": "2024-05-17T15:47:29.780403Z",
     "iopub.status.idle": "2024-05-17T15:47:29.888695Z",
     "shell.execute_reply": "2024-05-17T15:47:29.887833Z",
     "shell.execute_reply.started": "2024-05-17T15:47:29.780697Z"
    }
   },
   "outputs": [
    {
     "name": "stdout",
     "output_type": "stream",
     "text": [
      "Accuracy: 0.49774641705633116\n",
      "Classification Report:\n",
      "               precision    recall  f1-score   support\n",
      "\n",
      "           0       0.56      0.61      0.58     34165\n",
      "           1       0.39      0.35      0.37     25074\n",
      "\n",
      "    accuracy                           0.50     59239\n",
      "   macro avg       0.48      0.48      0.48     59239\n",
      "weighted avg       0.49      0.50      0.49     59239\n",
      "\n"
     ]
    },
    {
     "name": "stderr",
     "output_type": "stream",
     "text": [
      "/opt/conda/lib/python3.10/site-packages/sklearn/utils/validation.py:605: FutureWarning: is_sparse is deprecated and will be removed in a future version. Check `isinstance(dtype, pd.SparseDtype)` instead.\n",
      "  if is_sparse(pd_dtype):\n",
      "/opt/conda/lib/python3.10/site-packages/sklearn/utils/validation.py:614: FutureWarning: is_sparse is deprecated and will be removed in a future version. Check `isinstance(dtype, pd.SparseDtype)` instead.\n",
      "  if is_sparse(pd_dtype) or not is_extension_array_dtype(pd_dtype):\n",
      "/opt/conda/lib/python3.10/site-packages/sklearn/utils/validation.py:605: FutureWarning: is_sparse is deprecated and will be removed in a future version. Check `isinstance(dtype, pd.SparseDtype)` instead.\n",
      "  if is_sparse(pd_dtype):\n",
      "/opt/conda/lib/python3.10/site-packages/sklearn/utils/validation.py:614: FutureWarning: is_sparse is deprecated and will be removed in a future version. Check `isinstance(dtype, pd.SparseDtype)` instead.\n",
      "  if is_sparse(pd_dtype) or not is_extension_array_dtype(pd_dtype):\n",
      "/opt/conda/lib/python3.10/site-packages/sklearn/utils/validation.py:605: FutureWarning: is_sparse is deprecated and will be removed in a future version. Check `isinstance(dtype, pd.SparseDtype)` instead.\n",
      "  if is_sparse(pd_dtype):\n",
      "/opt/conda/lib/python3.10/site-packages/sklearn/utils/validation.py:614: FutureWarning: is_sparse is deprecated and will be removed in a future version. Check `isinstance(dtype, pd.SparseDtype)` instead.\n",
      "  if is_sparse(pd_dtype) or not is_extension_array_dtype(pd_dtype):\n",
      "/opt/conda/lib/python3.10/site-packages/sklearn/utils/validation.py:605: FutureWarning: is_sparse is deprecated and will be removed in a future version. Check `isinstance(dtype, pd.SparseDtype)` instead.\n",
      "  if is_sparse(pd_dtype):\n",
      "/opt/conda/lib/python3.10/site-packages/sklearn/utils/validation.py:614: FutureWarning: is_sparse is deprecated and will be removed in a future version. Check `isinstance(dtype, pd.SparseDtype)` instead.\n",
      "  if is_sparse(pd_dtype) or not is_extension_array_dtype(pd_dtype):\n",
      "/opt/conda/lib/python3.10/site-packages/sklearn/utils/validation.py:605: FutureWarning: is_sparse is deprecated and will be removed in a future version. Check `isinstance(dtype, pd.SparseDtype)` instead.\n",
      "  if is_sparse(pd_dtype):\n",
      "/opt/conda/lib/python3.10/site-packages/sklearn/utils/validation.py:614: FutureWarning: is_sparse is deprecated and will be removed in a future version. Check `isinstance(dtype, pd.SparseDtype)` instead.\n",
      "  if is_sparse(pd_dtype) or not is_extension_array_dtype(pd_dtype):\n",
      "/opt/conda/lib/python3.10/site-packages/sklearn/utils/validation.py:605: FutureWarning: is_sparse is deprecated and will be removed in a future version. Check `isinstance(dtype, pd.SparseDtype)` instead.\n",
      "  if is_sparse(pd_dtype):\n",
      "/opt/conda/lib/python3.10/site-packages/sklearn/utils/validation.py:614: FutureWarning: is_sparse is deprecated and will be removed in a future version. Check `isinstance(dtype, pd.SparseDtype)` instead.\n",
      "  if is_sparse(pd_dtype) or not is_extension_array_dtype(pd_dtype):\n"
     ]
    }
   ],
   "source": [
    "# Evaluate the performance\n",
    "print('Accuracy:', accuracy_score(y_test, y_pred_knn))\n",
    "print('Classification Report:\\n', classification_report(y_test, y_pred_knn))"
   ]
  },
  {
   "cell_type": "code",
   "execution_count": 37,
   "metadata": {
    "execution": {
     "iopub.execute_input": "2024-05-17T15:47:29.890156Z",
     "iopub.status.busy": "2024-05-17T15:47:29.889886Z",
     "iopub.status.idle": "2024-05-17T15:47:29.997751Z",
     "shell.execute_reply": "2024-05-17T15:47:29.996844Z",
     "shell.execute_reply.started": "2024-05-17T15:47:29.890131Z"
    }
   },
   "outputs": [
    {
     "name": "stderr",
     "output_type": "stream",
     "text": [
      "/opt/conda/lib/python3.10/site-packages/sklearn/utils/validation.py:605: FutureWarning: is_sparse is deprecated and will be removed in a future version. Check `isinstance(dtype, pd.SparseDtype)` instead.\n",
      "  if is_sparse(pd_dtype):\n",
      "/opt/conda/lib/python3.10/site-packages/sklearn/utils/validation.py:614: FutureWarning: is_sparse is deprecated and will be removed in a future version. Check `isinstance(dtype, pd.SparseDtype)` instead.\n",
      "  if is_sparse(pd_dtype) or not is_extension_array_dtype(pd_dtype):\n",
      "/opt/conda/lib/python3.10/site-packages/sklearn/utils/validation.py:605: FutureWarning: is_sparse is deprecated and will be removed in a future version. Check `isinstance(dtype, pd.SparseDtype)` instead.\n",
      "  if is_sparse(pd_dtype):\n",
      "/opt/conda/lib/python3.10/site-packages/sklearn/utils/validation.py:614: FutureWarning: is_sparse is deprecated and will be removed in a future version. Check `isinstance(dtype, pd.SparseDtype)` instead.\n",
      "  if is_sparse(pd_dtype) or not is_extension_array_dtype(pd_dtype):\n",
      "/opt/conda/lib/python3.10/site-packages/sklearn/utils/validation.py:605: FutureWarning: is_sparse is deprecated and will be removed in a future version. Check `isinstance(dtype, pd.SparseDtype)` instead.\n",
      "  if is_sparse(pd_dtype):\n",
      "/opt/conda/lib/python3.10/site-packages/sklearn/utils/validation.py:614: FutureWarning: is_sparse is deprecated and will be removed in a future version. Check `isinstance(dtype, pd.SparseDtype)` instead.\n",
      "  if is_sparse(pd_dtype) or not is_extension_array_dtype(pd_dtype):\n",
      "/opt/conda/lib/python3.10/site-packages/sklearn/utils/validation.py:605: FutureWarning: is_sparse is deprecated and will be removed in a future version. Check `isinstance(dtype, pd.SparseDtype)` instead.\n",
      "  if is_sparse(pd_dtype):\n",
      "/opt/conda/lib/python3.10/site-packages/sklearn/utils/validation.py:614: FutureWarning: is_sparse is deprecated and will be removed in a future version. Check `isinstance(dtype, pd.SparseDtype)` instead.\n",
      "  if is_sparse(pd_dtype) or not is_extension_array_dtype(pd_dtype):\n",
      "/opt/conda/lib/python3.10/site-packages/sklearn/utils/validation.py:605: FutureWarning: is_sparse is deprecated and will be removed in a future version. Check `isinstance(dtype, pd.SparseDtype)` instead.\n",
      "  if is_sparse(pd_dtype):\n",
      "/opt/conda/lib/python3.10/site-packages/sklearn/utils/validation.py:614: FutureWarning: is_sparse is deprecated and will be removed in a future version. Check `isinstance(dtype, pd.SparseDtype)` instead.\n",
      "  if is_sparse(pd_dtype) or not is_extension_array_dtype(pd_dtype):\n",
      "/opt/conda/lib/python3.10/site-packages/sklearn/utils/validation.py:605: FutureWarning: is_sparse is deprecated and will be removed in a future version. Check `isinstance(dtype, pd.SparseDtype)` instead.\n",
      "  if is_sparse(pd_dtype):\n",
      "/opt/conda/lib/python3.10/site-packages/sklearn/utils/validation.py:614: FutureWarning: is_sparse is deprecated and will be removed in a future version. Check `isinstance(dtype, pd.SparseDtype)` instead.\n",
      "  if is_sparse(pd_dtype) or not is_extension_array_dtype(pd_dtype):\n"
     ]
    },
    {
     "name": "stdout",
     "output_type": "stream",
     "text": [
      "Accuracy: 0.49774641705633116\n",
      "Classification Report:\n",
      "               precision    recall  f1-score   support\n",
      "\n",
      "           0       0.56      0.61      0.58     34165\n",
      "           1       0.39      0.35      0.37     25074\n",
      "\n",
      "    accuracy                           0.50     59239\n",
      "   macro avg       0.48      0.48      0.48     59239\n",
      "weighted avg       0.49      0.50      0.49     59239\n",
      "\n"
     ]
    }
   ],
   "source": [
    "# Evaluate the performance\n",
    "print('Accuracy:', accuracy_score(y_test, y_pred_rf))\n",
    "print('Classification Report:\\n', classification_report(y_test, y_pred_rf))"
   ]
  },
  {
   "cell_type": "code",
   "execution_count": null,
   "metadata": {
    "execution": {
     "iopub.status.busy": "2024-05-17T15:44:49.643957Z",
     "iopub.status.idle": "2024-05-17T15:44:49.644291Z",
     "shell.execute_reply": "2024-05-17T15:44:49.644139Z",
     "shell.execute_reply.started": "2024-05-17T15:44:49.644122Z"
    }
   },
   "outputs": [],
   "source": [
    "# from sklearn.neighbors import KNeighborsClassifier\n",
    "# from sklearn.model_selection import GridSearchCV\n",
    "# from sklearn.metrics import accuracy_score, classification_report\n",
    "\n",
    "# # Hyperparameter tuning for LDA\n",
    "# lda_params = {'solver': ['svd', 'lsqr', 'eigen']}\n",
    "# lda = LinearDiscriminantAnalysis()\n",
    "# lda_grid = GridSearchCV(lda, lda_params, cv=5)\n",
    "# lda_grid.fit(X_train, y_train)\n",
    "# best_lda = lda_grid.best_estimator_\n",
    "\n",
    "# # Apply LDA\n",
    "# X_train_lda = best_lda.transform(X_train)\n",
    "# X_test_lda = best_lda.transform(X_test)\n",
    "\n",
    "# # Hyperparameter tuning for KNN\n",
    "# knn_params = {'n_neighbors': [3, 5, 7, 9, 11]}\n",
    "# knn = KNeighborsClassifier()\n",
    "# knn_grid = GridSearchCV(knn, knn_params, cv=5)\n",
    "# knn_grid.fit(X_train_lda, y_train)\n",
    "# best_knn = knn_grid.best_estimator_\n",
    "\n",
    "# # Evaluate the performance\n",
    "# y_pred = best_knn.predict(X_test_lda)\n",
    "# print('Accuracy:', accuracy_score(y_test, y_pred))\n",
    "# print('Classification Report:\\n', classification_report(y_test, y_pred))\n"
   ]
  }
 ],
 "metadata": {
  "kaggle": {
   "accelerator": "nvidiaTeslaT4",
   "dataSources": [
    {
     "datasetId": 2633044,
     "sourceId": 4504149,
     "sourceType": "datasetVersion"
    }
   ],
   "dockerImageVersionId": 30618,
   "isGpuEnabled": true,
   "isInternetEnabled": true,
   "language": "python",
   "sourceType": "notebook"
  },
  "kernelspec": {
   "display_name": "Python 3 (ipykernel)",
   "language": "python",
   "name": "python3"
  },
  "language_info": {
   "codemirror_mode": {
    "name": "ipython",
    "version": 3
   },
   "file_extension": ".py",
   "mimetype": "text/x-python",
   "name": "python",
   "nbconvert_exporter": "python",
   "pygments_lexer": "ipython3",
   "version": "3.10.11"
  }
 },
 "nbformat": 4,
 "nbformat_minor": 4
}
